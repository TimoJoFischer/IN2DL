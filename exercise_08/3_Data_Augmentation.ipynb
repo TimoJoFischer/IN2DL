{
 "cells": [
  {
   "cell_type": "markdown",
   "metadata": {},
   "source": [
    "# Data Augmentation\n",
    "  \n",
    "In this notebook we will show different data augmentation techniques on **CIFAR-10 dataset** using pytorch. As you already learned in class, data augmentation is not only a solution when you don't have enough data to train, but also an effective way to improve the generalization performance of your classifier.\n",
    "\n",
    "Image Augmentation is the process of generating new images for training our deep learning model. These new images are generated using the **existing training images** and hence we don’t have to collect them manually.\n",
    "\n",
    "**HOWEVER**, these techniques do not come entirely for free. You need to consider the 'safety' of your augmentation. The safety of a Data Augmentation method refers to its likelihood of preserving the label post-transformation. For example, rotations and flips are generally safe on ImageNet challenges such as cat versus dog, but not safe for digit recognition tasks such as 6 versus 9. Besides, some augmentation techniques will increase the computation expensiveness and lead to additional training time. So you need to have this in mind before you apply data augmentation to your dataset."
   ]
  },
  {
   "cell_type": "markdown",
   "metadata": {},
   "source": [
    "## When to apply Image Augmentation?\n",
    "\n",
    "Image data augmentation can be applied as a pre-processing step before we train the model or can be applied in real time.\n",
    "\n",
    "#### Offline Augmentation\n",
    "\n",
    "Augmentation is applied as a pre-processing step to increase the size of the dataset. This is usually done when we have a small training dataset that we want to expand. Generating augmentation on smaller dataset is helpful but we need to consider the disk space when applying on larger datasets. In this case, the size of the augmented dataset is fixed.\n",
    "\n",
    "\n",
    "#### Online Augmentation\n",
    "As the name suggests, this kind of augmentation is applied in real time. This is usually applied for larger datasets as we do not need to save the augmented images on the disk. In this case, we apply transformations in mini-batches and then feed it to the model. So the size of the augmented dataset that the model actually sees can be infinitly large.\n",
    "\n",
    "In online augmentation, the model will see different images at each epoch. In offline augmentation, the augmented images are part of the training set, so it views the augmented image multiple times depending on the number of epochs. Hence, the model could generalize better with online augmentation as it sees more samples during training with online data augmentation."
   ]
  },
  {
   "cell_type": "markdown",
   "metadata": {},
   "source": [
    "## Data Augmentation Techniques\n",
    "\n",
    "Since we will work on the CIFAR-10 dataset, the augmentation techniques mentioned below will work in the context of image classification scenarios.\n",
    "\n",
    "In the following we will show **center crop, random crops, rotation, shifting, flipping, adding noise, resizing, and changing the brightness/contrast/saturation to the images** that work directly on the image object. Also, we will show other common data processing methods such as **toTensor and normalizaion** which works on the tensors that are transformed from images.\n",
    "\n",
    "All these techniques are available in pytorch, and if you design your own network in the future, please consider data augmentation as a part of your network design."
   ]
  },
  {
   "cell_type": "markdown",
   "metadata": {},
   "source": [
    "## Load an image from CIFAR-10 Dataset"
   ]
  },
  {
   "cell_type": "code",
   "execution_count": 1,
   "metadata": {},
   "outputs": [],
   "source": [
    "import os\n",
    "import torch\n",
    "import torchvision\n",
    "import torchvision.transforms as transforms\n",
    "import matplotlib.pyplot as plt\n",
    "import numpy as np\n",
    "from PIL import Image\n",
    "\n",
    "\n",
    "%load_ext autoreload\n",
    "%autoreload 2\n",
    "%matplotlib inline\n",
    "plt.rcParams['figure.figsize'] = (4.8, 4.8) # set default size of plots\n",
    "plt.rcParams['image.interpolation'] = 'nearest'\n",
    "plt.rcParams['image.cmap'] = 'gray'"
   ]
  },
  {
   "cell_type": "code",
   "execution_count": 2,
   "metadata": {},
   "outputs": [
    {
     "data": {
      "image/png": "[encoded data removed]",
      "text/plain": [
       "<Figure size 432x288 with 1 Axes>"
      ]
     },
     "metadata": {
      "needs_background": "light"
     },
     "output_type": "display_data"
    }
   ],
   "source": [
    "# We will load an image from the cifar-10 dataset that are already used serval times before on your local machine.\n",
    "\n",
    "original_image = Image.open('../datasets/cifar10/cat/4939.png')\n",
    "plt.imshow(original_image)\n",
    "plt.title('Original Image')\n",
    "plt.show()"
   ]
  },
  {
   "cell_type": "markdown",
   "metadata": {},
   "source": [
    "### 0.0 ToTensor\n",
    "\n",
    "The very first thing you need to know is that our network takes **tensors** as input, so one of the most important transformation you need to do is to convert a PIL Image or a numpy.ndarray to tensor before you pass them to your model. You can use\n",
    "\n",
    "```torchvision.ToTensor()```\n",
    "\n",
    "which will convert a PIL Image or numpy.ndarray (H x W x C) in the range [0, 255] to a torch.FloatTensor of shape (C x H x W) in the range [0.0, 1.0] if the PIL Image belongs to one of the modes (L, LA, P, I, F, RGB, YCbCr, RGBA, CMYK, 1) or if the numpy.ndarray has dtype = np.uint8.\n",
    "\n",
    "In the other cases, tensors are returned without scaling."
   ]
  },
  {
   "cell_type": "code",
   "execution_count": 3,
   "metadata": {},
   "outputs": [
    {
     "name": "stdout",
     "output_type": "stream",
     "text": [
      "The shape before transformation:  (32, 32)\n",
      "\n",
      "The shape after transformation:  torch.Size([3, 32, 32])\n",
      "\n",
      "After the transformation, the image becomes:\n",
      "  tensor([[[0.3333, 0.3490, 0.3490,  ..., 0.4118, 0.4078, 0.4000],\n",
      "         [0.3373, 0.3490, 0.3451,  ..., 0.4118, 0.4118, 0.4078],\n",
      "         [0.3412, 0.3490, 0.3529,  ..., 0.4157, 0.4157, 0.4118],\n",
      "         ...,\n",
      "         [0.2471, 0.2706, 0.3686,  ..., 0.6353, 0.6353, 0.6275],\n",
      "         [0.2706, 0.2706, 0.2824,  ..., 0.5882, 0.6039, 0.6235],\n",
      "         [0.2275, 0.2196, 0.3412,  ..., 0.5686, 0.5686, 0.5647]],\n",
      "\n",
      "        [[0.2980, 0.3098, 0.3137,  ..., 0.3882, 0.3843, 0.3765],\n",
      "         [0.2980, 0.3098, 0.3137,  ..., 0.3843, 0.3843, 0.3804],\n",
      "         [0.3020, 0.3059, 0.3137,  ..., 0.3765, 0.3765, 0.3765],\n",
      "         ...,\n",
      "         [0.1176, 0.1569, 0.2863,  ..., 0.4902, 0.4784, 0.4588],\n",
      "         [0.1647, 0.1569, 0.1608,  ..., 0.4196, 0.4431, 0.4588],\n",
      "         [0.0941, 0.0588, 0.1961,  ..., 0.4039, 0.4118, 0.4078]],\n",
      "\n",
      "        [[0.2627, 0.2706, 0.2784,  ..., 0.3412, 0.3373, 0.3294],\n",
      "         [0.2627, 0.2745, 0.2824,  ..., 0.3412, 0.3412, 0.3373],\n",
      "         [0.2667, 0.2706, 0.2784,  ..., 0.3373, 0.3373, 0.3333],\n",
      "         ...,\n",
      "         [0.1255, 0.1647, 0.2863,  ..., 0.3294, 0.3137, 0.3020],\n",
      "         [0.1686, 0.1608, 0.1608,  ..., 0.2588, 0.2784, 0.2980],\n",
      "         [0.0980, 0.0549, 0.1529,  ..., 0.2510, 0.2549, 0.2588]]])\n"
     ]
    }
   ],
   "source": [
    "transform_0 = transforms.ToTensor()\n",
    "image_transformed_0 = transform_0(original_image)\n",
    "print(\"The shape before transformation: \", original_image.size)\n",
    "print(\"\\nThe shape after transformation: \", image_transformed_0.shape)\n",
    "print(\"\\nAfter the transformation, the image becomes:\\n \", image_transformed_0)"
   ]
  },
  {
   "cell_type": "markdown",
   "metadata": {},
   "source": [
    "### 0.1 Normalization\n",
    "\n",
    "This technique is usually applied after the images are tranformed to tensors. Given mean: (M1,...,Mn) and std: (S1,..,Sn) for n channels, \n",
    "\n",
    "```torchvision.transforms.Normalize(mean, std, inplace=False)```\n",
    "\n",
    "will normalize each channel of the input torch.Tensor i.e. *output[channel] = (input[channel] - mean[channel]) / std[channel]*"
   ]
  },
  {
   "cell_type": "code",
   "execution_count": 4,
   "metadata": {},
   "outputs": [
    {
     "name": "stdout",
     "output_type": "stream",
     "text": [
      "After the normalization, you can see the values of the tensor become: \n",
      " tensor([[[-0.6623, -0.5938, -0.5938,  ..., -0.3198, -0.3369, -0.3712],\n",
      "         [-0.6452, -0.5938, -0.6109,  ..., -0.3198, -0.3198, -0.3369],\n",
      "         [-0.6281, -0.5938, -0.5767,  ..., -0.3027, -0.3027, -0.3198],\n",
      "         ...,\n",
      "         [-1.0390, -0.9363, -0.5082,  ...,  0.6563,  0.6563,  0.6221],\n",
      "         [-0.9363, -0.9363, -0.8849,  ...,  0.4508,  0.5193,  0.6049],\n",
      "         [-1.1247, -1.1589, -0.6281,  ...,  0.3652,  0.3652,  0.3481]],\n",
      "\n",
      "        [[-0.7052, -0.6527, -0.6352,  ..., -0.3025, -0.3200, -0.3550],\n",
      "         [-0.7052, -0.6527, -0.6352,  ..., -0.3200, -0.3200, -0.3375],\n",
      "         [-0.6877, -0.6702, -0.6352,  ..., -0.3550, -0.3550, -0.3550],\n",
      "         ...,\n",
      "         [-1.5105, -1.3354, -0.7577,  ...,  0.1527,  0.1001,  0.0126],\n",
      "         [-1.3004, -1.3354, -1.3179,  ..., -0.1625, -0.0574,  0.0126],\n",
      "         [-1.6155, -1.7731, -1.1604,  ..., -0.2325, -0.1975, -0.2150]],\n",
      "\n",
      "        [[-0.6367, -0.6018, -0.5670,  ..., -0.2881, -0.3055, -0.3404],\n",
      "         [-0.6367, -0.5844, -0.5495,  ..., -0.2881, -0.2881, -0.3055],\n",
      "         [-0.6193, -0.6018, -0.5670,  ..., -0.3055, -0.3055, -0.3230],\n",
      "         ...,\n",
      "         [-1.2467, -1.0724, -0.5321,  ..., -0.3404, -0.4101, -0.4624],\n",
      "         [-1.0550, -1.0898, -1.0898,  ..., -0.6541, -0.5670, -0.4798],\n",
      "         [-1.3687, -1.5604, -1.1247,  ..., -0.6890, -0.6715, -0.6541]]])\n"
     ]
    }
   ],
   "source": [
    "mean=[0.485, 0.456, 0.406]\n",
    "std=[0.229, 0.224, 0.225]\n",
    "transform_01 = transforms.Normalize(mean, std, inplace=False)\n",
    "image_transformed_01 = transform_01(image_transformed_0)\n",
    "print(\"After the normalization, you can see the values of the tensor become: \\n\", image_transformed_01)"
   ]
  },
  {
   "cell_type": "markdown",
   "metadata": {},
   "source": [
    "### 1. Center Crops\n",
    "\n",
    "Now, let's talk about what image augmentation techniques that can apply **directly** on the PIL images.\n",
    "\n",
    "The first one you should know is: center crops.\n",
    "\n",
    "To crop the given PIL Image at the center. You can use \n",
    "\n",
    "```torchvision.transforms.CenterCrop(size)```\n",
    "\n",
    "**Note:** You need to pass in the desired output size into the transformation."
   ]
  },
  {
   "cell_type": "code",
   "execution_count": 5,
   "metadata": {},
   "outputs": [
    {
     "data": {
      "image/png": "[encoded data removed]",
      "text/plain": [
       "<Figure size 432x288 with 1 Axes>"
      ]
     },
     "metadata": {
      "needs_background": "light"
     },
     "output_type": "display_data"
    }
   ],
   "source": [
    "transform_1 = transforms.CenterCrop((20,20))\n",
    "image_transformed_1 = transform_1(original_image)\n",
    "plt.imshow(image_transformed_1)\n",
    "plt.title('Centor Crop')\n",
    "plt.show()"
   ]
  },
  {
   "cell_type": "markdown",
   "metadata": {},
   "source": [
    "### 2. Random Crops\n",
    "\n",
    "To crop the given PIL Image at a random location, you can use\n",
    "\n",
    "```torchvision.transforms.RandomCrop(size, padding=None, pad_if_needed=False, fill=0, padding_mode='constant')```\n",
    "\n",
    "**Note:** You need to pass in the desired output size into the transformation. Other variables are optional."
   ]
  },
  {
   "cell_type": "code",
   "execution_count": 6,
   "metadata": {},
   "outputs": [
    {
     "data": {
      "image/png": "[encoded data removed]",
      "text/plain": [
       "<Figure size 432x288 with 1 Axes>"
      ]
     },
     "metadata": {
      "needs_background": "light"
     },
     "output_type": "display_data"
    }
   ],
   "source": [
    "transform_2 = transforms.RandomCrop((20,20))\n",
    "image_transformed_2 = transform_2(original_image)\n",
    "plt.imshow(image_transformed_2)\n",
    "plt.title('Random Crop')\n",
    "plt.show()"
   ]
  },
  {
   "cell_type": "markdown",
   "metadata": {},
   "source": [
    "### 3. Random Resized Crops\n",
    "\n",
    "To crop the given PIL Image to random size and aspect ratio, you can use\n",
    "\n",
    "```torchvision.transforms.RandomResizedCrop(size, scale=(0.08, 1.0), ratio=(0.75, 1.3333333333333333), interpolation=2)```\n",
    "\n",
    "**Note:** You need to pass in the desired output size and this crop will finally resized to your given size. This is popularly used to train the Inception networks."
   ]
  },
  {
   "cell_type": "code",
   "execution_count": 7,
   "metadata": {},
   "outputs": [
    {
     "data": {
      "image/png": "[encoded data removed]",
      "text/plain": [
       "<Figure size 432x288 with 1 Axes>"
      ]
     },
     "metadata": {
      "needs_background": "light"
     },
     "output_type": "display_data"
    }
   ],
   "source": [
    "transform_3 = transforms.RandomResizedCrop((20,20))\n",
    "image_transformed_3 = transform_3(original_image)\n",
    "plt.imshow(image_transformed_3)\n",
    "plt.title('Random Crop')\n",
    "plt.show()"
   ]
  },
  {
   "cell_type": "markdown",
   "metadata": {},
   "source": [
    "### 4. Rotation\n",
    "\n",
    "Image rotation is one of the most commonly used augmentation techniques. It can help our model become robust to the changes in the orientation of objects. Even if we rotate the image, the information of the image remains the same. A cat is a cat even if we see it from a different angle.\n",
    "\n",
    "To rotate the given PIL Image by a given range of degrees, you can use\n",
    "\n",
    "```torchvision.transforms.RandomRotation(degrees, resample=False, expand=False, center=None, fill=None)``` \n",
    "\n",
    "**Note:** If you pass in a number instead of a range, the image will be rotated in a angle from (-degree, +degree)."
   ]
  },
  {
   "cell_type": "code",
   "execution_count": 8,
   "metadata": {},
   "outputs": [
    {
     "data": {
      "image/png": "[encoded data removed]",
      "text/plain": [
       "<Figure size 432x288 with 1 Axes>"
      ]
     },
     "metadata": {
      "needs_background": "light"
     },
     "output_type": "display_data"
    }
   ],
   "source": [
    "transform_4 = transforms.RandomRotation((10,90))\n",
    "image_transformed_4 = transform_4(original_image)\n",
    "plt.imshow(image_transformed_4)\n",
    "plt.title('Random Rotation')\n",
    "plt.show()\n"
   ]
  },
  {
   "cell_type": "markdown",
   "metadata": {},
   "source": [
    "### 5. Flipping\n",
    "\n",
    "Flipping is just a special case of rotation. We can flip the image horizontally or vertically.\n",
    "\n",
    "You can use  \n",
    "\n",
    "```torchvision.transforms.RandomHorizontalFlip()``` or ```torchvision.transforms.RandomVerticalFlip()```\n",
    "\n",
    "**Note:**\n",
    "\n",
    "**1.** It takes a float as the input to serve as the probability of the image to be flipped. The default value is 0.5.\n",
    "\n",
    "**2.** On datasets involving text recognition such as MNIST or SVHN, this is not a label-preserving transformation."
   ]
  },
  {
   "cell_type": "code",
   "execution_count": 9,
   "metadata": {},
   "outputs": [
    {
     "data": {
      "image/png": "[encoded data removed]",
      "text/plain": [
       "<Figure size 432x288 with 1 Axes>"
      ]
     },
     "metadata": {
      "needs_background": "light"
     },
     "output_type": "display_data"
    }
   ],
   "source": [
    "# horizontal flip\n",
    "transform_5_1 = transforms.RandomHorizontalFlip(p=0.9)\n",
    "image_transformed_5_1 = transform_5_1(original_image)\n",
    "plt.imshow(image_transformed_5_1)\n",
    "plt.title('Random Horizontal Flip')\n",
    "plt.show()\n"
   ]
  },
  {
   "cell_type": "code",
   "execution_count": 10,
   "metadata": {},
   "outputs": [
    {
     "data": {
      "image/png": "[encoded data removed]",
      "text/plain": [
       "<Figure size 432x288 with 1 Axes>"
      ]
     },
     "metadata": {
      "needs_background": "light"
     },
     "output_type": "display_data"
    }
   ],
   "source": [
    "# vertical flip\n",
    "transform_5_2 = transforms.RandomVerticalFlip(p=0.9)\n",
    "image_transformed_5_2 = transform_5_2(original_image)\n",
    "plt.imshow(image_transformed_5_2)\n",
    "plt.title('Random Vertical Flip')\n",
    "plt.show()\n"
   ]
  },
  {
   "cell_type": "markdown",
   "metadata": {},
   "source": [
    "### 6. Shifting\n",
    "\n",
    "There might be scenarios when the objects in the image are not perfectly central aligned. In these cases, image shift can be used to add shift-invariance to the images.\n",
    "\n",
    "By shifting the images, we can change the position of the object in the image and hence give more variety to the model. This will eventually lead to a more generalized model.\n",
    "\n",
    "To apply random affine transformation to your image, you can use\n",
    "\n",
    "```torchvision.transforms.RandomAffine(degrees, translate=None, scale=None, shear=None, resample=False, fillcolor=0)```\n",
    "\n",
    "**Note:** This transformation takes a range of rotation degrees as input, and you can also pass in other parameters such as translate, which is a tuple of maximum absolute fraction for horizontal and vertical translations. "
   ]
  },
  {
   "cell_type": "code",
   "execution_count": 13,
   "metadata": {},
   "outputs": [
    {
     "data": {
      "image/png": "[encoded data removed]",
      "text/plain": [
       "<Figure size 432x288 with 1 Axes>"
      ]
     },
     "metadata": {
      "needs_background": "light"
     },
     "output_type": "display_data"
    }
   ],
   "source": [
    "transform_6 = transforms.RandomAffine(degrees=(10,90), translate=(0.1,0.3))\n",
    "image_transformed_6 = transform_6(original_image)\n",
    "plt.imshow(image_transformed_6)\n",
    "plt.title('Random Affine Transformation')\n",
    "plt.show()\n",
    "\n"
   ]
  },
  {
   "cell_type": "markdown",
   "metadata": {},
   "source": [
    "### 7. Adding Gaussian Noise\n",
    "\n",
    "Adding noise to images is an important augmentation step that allows our model to learn how to separate signal from noise in an image. This also makes the model more robust to changes in the input.\n",
    "\n",
    "To realize this, you can use\n",
    "\n",
    "```torchvision.transforms.Lambda(lambd)```\n",
    "\n",
    "to design your own transform."
   ]
  },
  {
   "cell_type": "code",
   "execution_count": 14,
   "metadata": {},
   "outputs": [
    {
     "data": {
      "image/png": "[encoded data removed]",
      "text/plain": [
       "<Figure size 432x288 with 1 Axes>"
      ]
     },
     "metadata": {
      "needs_background": "light"
     },
     "output_type": "display_data"
    }
   ],
   "source": [
    "transform_7 = transforms.Compose([transforms.ToTensor(),transforms.Lambda(lambda x : x + 0.1*torch.randn_like(x)),transforms.ToPILImage()])\n",
    "image_transformed_7 = transform_7(original_image)\n",
    "plt.imshow(image_transformed_7)\n",
    "plt.title('Add Noise')\n",
    "plt.show()"
   ]
  },
  {
   "cell_type": "markdown",
   "metadata": {},
   "source": [
    "### 8. ColorJitter\n",
    "\n",
    "To randomly change the brightness, contrast and saturation of an image, you can use\n",
    "\n",
    "```torchvision.transforms.ColorJitter(brightness=0, contrast=0, saturation=0, hue=0)```\n",
    "\n",
    "**Note:** All these four arguments take either a float or a tuple as input. And your inputs basically specify a range that the tranformation can apply on."
   ]
  },
  {
   "cell_type": "code",
   "execution_count": 15,
   "metadata": {},
   "outputs": [
    {
     "data": {
      "image/png": "[encoded data removed]",
      "text/plain": [
       "<Figure size 432x288 with 1 Axes>"
      ]
     },
     "metadata": {
      "needs_background": "light"
     },
     "output_type": "display_data"
    }
   ],
   "source": [
    "transform_8 = transforms.ColorJitter(brightness=0.3, contrast=0.6, saturation=0.5)\n",
    "image_transformed_8 = transform_8(original_image)\n",
    "plt.imshow(image_transformed_8)\n",
    "plt.title('Noised Image')\n",
    "plt.show()\n"
   ]
  },
  {
   "cell_type": "markdown",
   "metadata": {},
   "source": [
    "### 9. Resizing\n",
    "\n",
    "Because our model takes a certain input size, so sometimes we need to resize our images.\n",
    "\n",
    "To resize the input PIL Image to the given size, you can use\n",
    "\n",
    "```torchvision.transforms.Resize(size, interpolation=2)``` \n",
    "\n",
    "**Note:** you need to pass in the desired output size. If size is a sequence like (h, w), output size will be matched to this."
   ]
  },
  {
   "cell_type": "code",
   "execution_count": 16,
   "metadata": {},
   "outputs": [
    {
     "data": {
      "image/png": "[encoded data removed]",
      "text/plain": [
       "<Figure size 432x288 with 1 Axes>"
      ]
     },
     "metadata": {
      "needs_background": "light"
     },
     "output_type": "display_data"
    }
   ],
   "source": [
    "transform_9 = transforms.Resize((24,24))\n",
    "image_transformed_9 = transform_9(original_image)\n",
    "plt.imshow(image_transformed_9)\n",
    "plt.title('Resized Image')\n",
    "plt.show()"
   ]
  },
  {
   "cell_type": "markdown",
   "metadata": {},
   "source": [
    "## 10. Combine All These Together\n",
    "\n",
    "All these mentioned above are widely used in network design, and you can combine them by using\n",
    "\n",
    "```torchvision.transforms.Compose(transforms)```\n",
    "\n",
    "This can composes several transforms together."
   ]
  },
  {
   "cell_type": "code",
   "execution_count": 17,
   "metadata": {},
   "outputs": [],
   "source": [
    "transform = transforms.Compose([\n",
    "    transforms.CenterCrop((20,20)),\n",
    "    transforms.ColorJitter(brightness=0.3, contrast=0.6, saturation=0.5),\n",
    "    transforms.RandomAffine(degrees=(10,90), translate=(0.1,0.3)),\n",
    "    transforms.ToTensor(),\n",
    "    transforms.Normalize(mean, std, inplace=False)\n",
    "])\n",
    "image_transformed = transform(original_image)"
   ]
  },
  {
   "cell_type": "markdown",
   "metadata": {},
   "source": [
    "**If you want to learn more about data augmentation using Pytorch, you can check it out the documentation below.**"
   ]
  },
  {
   "cell_type": "code",
   "execution_count": 18,
   "metadata": {},
   "outputs": [
    {
     "data": {
      "text/html": [
       "\n",
       "        <iframe\n",
       "            width=\"900\"\n",
       "            height=\"400\"\n",
       "            src=\"https://pytorch.org/docs/stable/torchvision/transforms.html\"\n",
       "            frameborder=\"0\"\n",
       "            allowfullscreen\n",
       "        ></iframe>\n",
       "        "
      ],
      "text/plain": [
       "<IPython.lib.display.IFrame at 0x7f1f32138850>"
      ]
     },
     "execution_count": 18,
     "metadata": {},
     "output_type": "execute_result"
    }
   ],
   "source": [
    "from IPython.display import IFrame\n",
    "IFrame('https://pytorch.org/docs/stable/torchvision/transforms.html', width=900, height=400)"
   ]
  },
  {
   "cell_type": "code",
   "execution_count": null,
   "metadata": {},
   "outputs": [],
   "source": []
  }
 ],
 "metadata": {
  "kernelspec": {
   "display_name": "Python 3",
   "language": "python",
   "name": "python3"
  },
  "language_info": {
   "codemirror_mode": {
    "name": "ipython",
    "version": 3
   },
   "file_extension": ".py",
   "mimetype": "text/x-python",
   "name": "python",
   "nbconvert_exporter": "python",
   "pygments_lexer": "ipython3",
   "version": "3.8.3"
  }
 },
 "nbformat": 4,
 "nbformat_minor": 2
}
