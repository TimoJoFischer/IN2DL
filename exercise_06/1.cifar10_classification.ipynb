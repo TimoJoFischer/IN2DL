{
 "cells": [
  {
   "cell_type": "markdown",
   "metadata": {},
   "source": [
    "# Cifar10 Classification"
   ]
  },
  {
   "cell_type": "markdown",
   "metadata": {},
   "source": [
    "Until now, we have implemented several pieces of a deep learning pipeline and even trained a two-layer neural network, but all the hyperparameters were already set to some values yielding resonable results. In real-life problems, however, much of the work in a deep learning project will be geared towards finding the best hyperparameters for a certain problem. In this notebook we will explore some good practices for network debugging and hyperparameters search, as well as extending our previously binary classification neural network to a multi-class one.\n",
    "\n",
    "Let's go!"
   ]
  },
  {
   "cell_type": "code",
   "execution_count": 1,
   "metadata": {},
   "outputs": [],
   "source": [
    "# Some lengthy setup.\n",
    "import matplotlib.pyplot as plt\n",
    "import numpy as np\n",
    "import os\n",
    "\n",
    "from exercise_code.networks.layer import (\n",
    "    Sigmoid, \n",
    "    Relu, \n",
    "    LeakyRelu, \n",
    "    Tanh,\n",
    ")\n",
    "from exercise_code.data import (\n",
    "    DataLoader,\n",
    "    ImageFolderDataset,\n",
    "    RescaleTransform,\n",
    "    NormalizeTransform,\n",
    "    FlattenTransform,\n",
    "    ComposeTransform,\n",
    ")\n",
    "from exercise_code.networks import (\n",
    "    ClassificationNet,\n",
    "    BCE,\n",
    "    CrossEntropyFromLogits\n",
    ")\n",
    "\n",
    "%load_ext autoreload\n",
    "%autoreload 2\n",
    "%matplotlib inline\n",
    "\n",
    "plt.rcParams['figure.figsize'] = (10.0, 8.0) # set default size of plots\n",
    "plt.rcParams['image.interpolation'] = 'nearest'\n",
    "plt.rcParams['image.cmap'] = 'gray'"
   ]
  },
  {
   "cell_type": "markdown",
   "metadata": {},
   "source": [
    "# 1. Quick recap (and some new things)"
   ]
  },
  {
   "cell_type": "markdown",
   "metadata": {},
   "source": [
    "Until now, in the previous exercises, we focused on building and understanding all the necessary modules for training a simple model. We followed the Pytorch implementations closely, as this is the framework we will use later and we want you to have a smoother transition to its APIs. \n",
    "\n",
    "In the figure below you can see the main components in Pytorch. Before starting the actual exercise, we begin with a quick recap of **our implementation** of these components. \n",
    "\n",
    "Everything is already implemented for this part, but we **strongly** encourage you to check out the respective source files in order to have a better understanding."
   ]
  },
  {
   "cell_type": "markdown",
   "metadata": {},
   "source": [
    "<img src=\"https://cdn-images-1.medium.com/max/800/1*uZrS4KjAuSJQIJPgOiaJUg.png\" style=\"width: 500px;\">"
   ]
  },
  {
   "cell_type": "markdown",
   "metadata": {},
   "source": [
    "## 1.1 Dataset and Dataloader"
   ]
  },
  {
   "cell_type": "markdown",
   "metadata": {},
   "source": [
    "Data preparation represents an important part of deep learning projects. The data comes from different sources and in different formats and is prepared differently from application to application. One part, however, is clear: because entire datasets are usually too large for us to handle at once, we train our models on smaller batches of data. \n",
    "\n",
    "The goal of the ```Dataset``` class is to encapsulate all the 'dirty' data processing: loading and cleaning the data, storing features (or names of files where features can be found) and labels, as well as providing the means for accessing individual (transformed) items of the data using the ```__getitem__()``` function and an index. You already implemented an ```ImageFolderDataset``` (in ```exercise_code/data/image_folder_dataset.py```) class in Exercise 3. We we will reuse this class here.\n",
    "\n",
    "For processing the data, you implemented several transforms in Exercise 3 (```RescaleTransform```, ```NormalizeTransform```, ```ComposeTransform```). In this exercise we are working with images, which are multidimensional arrays, but we are using simple feedforward neural network which takes a one dimensional array as an input, so it is necessary to reshape the images before feeding them into the model. We implemented this reshape operation for you in the ```FlattenTransform``` class, also found in ```exercise_code/data/image_folder_dataset.py```."
   ]
  },
  {
   "cell_type": "code",
   "execution_count": 2,
   "metadata": {},
   "outputs": [],
   "source": [
    "download_url = \"https://cdn3.vision.in.tum.de/~dl4cv/cifar10.zip\"\n",
    "i2dl_exercises_path = os.path.dirname(os.path.abspath(os.getcwd()))\n",
    "cifar_root = os.path.join(i2dl_exercises_path, \"datasets\", \"cifar10\")\n",
    "\n",
    "# Use the Cifar10 mean and standard deviation computed in Exercise 3.\n",
    "cifar_mean = np.array([0.49191375, 0.48235852, 0.44673872])\n",
    "cifar_std  = np.array([0.24706447, 0.24346213, 0.26147554])\n",
    "\n",
    "# Define all the transforms we will apply on the images when \n",
    "# retrieving them.\n",
    "rescale_transform = RescaleTransform()\n",
    "normalize_transform = NormalizeTransform(\n",
    "    mean=cifar_mean,\n",
    "    std=cifar_std\n",
    ")\n",
    "flatten_transform = FlattenTransform()\n",
    "compose_transform = ComposeTransform([rescale_transform, \n",
    "                                      normalize_transform,\n",
    "                                      flatten_transform])\n",
    "\n",
    "# Create a train, validation and test dataset.\n",
    "datasets = {}\n",
    "for mode in ['train', 'val', 'test']:\n",
    "    crt_dataset = ImageFolderDataset(\n",
    "        mode=mode,\n",
    "        root=cifar_root, \n",
    "        download_url=download_url,\n",
    "        transform=compose_transform,\n",
    "        split={'train': 0.6, 'val': 0.2, 'test': 0.2}\n",
    "    )\n",
    "    datasets[mode] = crt_dataset"
   ]
  },
  {
   "cell_type": "markdown",
   "metadata": {},
   "source": [
    "Then, based on this ```Dataset``` object, we can construct a ```Dataloader``` object which samples a random mini-batch of data at once. "
   ]
  },
  {
   "cell_type": "code",
   "execution_count": 3,
   "metadata": {},
   "outputs": [],
   "source": [
    "# Create a dataloader for each split.\n",
    "dataloaders = {}\n",
    "for mode in ['train', 'val', 'test']:\n",
    "    crt_dataloader = DataLoader(\n",
    "        dataset=datasets[mode],\n",
    "        batch_size=256,\n",
    "        shuffle=True,\n",
    "        drop_last=True,\n",
    "    )\n",
    "    dataloaders[mode] = crt_dataloader"
   ]
  },
  {
   "cell_type": "markdown",
   "metadata": {},
   "source": [
    "Because the ```Dataloader``` has the ```__iter__()``` method, we can simply iterate through the batches it produces, like this:\n",
    "\n",
    "```python\n",
    "for batch in dataloader['train']:\n",
    "    do_something(batch)\n",
    "```"
   ]
  },
  {
   "cell_type": "markdown",
   "metadata": {},
   "source": [
    "## 1.2 Model"
   ]
  },
  {
   "cell_type": "markdown",
   "metadata": {},
   "source": [
    "Now, that the data is prepared, we can discuss the model in which we are feeding the data, which in our case will be a neural network. \n",
    "\n",
    "In Exercise 5, you implemented a simple 2-layer neural network that had a hidden size as a parameter:\n",
    "\n",
    "$$ \n",
    "{\\hat{y}} = \\sigma(\\sigma({x W_1} + {b_1}) {W_2} + {b_2}) \n",
    "$$\n",
    "\n",
    "where $ \\sigma({x}) $ was the sigmoid function, $ {x} $ was the input, $ {W_1}, {W_2} $ the weight matrices and $ {b_1}, {b_2}$ the biases for the two layers.\n",
    "\n",
    "This is how we used this network:"
   ]
  },
  {
   "cell_type": "code",
   "execution_count": null,
   "metadata": {},
   "outputs": [],
   "source": [
    "input_size = datasets['train'][0]['image'].shape[0]\n",
    "model = ClassificationNet(input_size=input_size, \n",
    "                          hidden_size=512)"
   ]
  },
  {
   "cell_type": "markdown",
   "metadata": {},
   "source": [
    "Note that we updated the ```ClassificationNet``` from the previous exercise, so that now you can customize more: the number of outputs, the choice of activation function, the hidden size etc. We encourage you to check out the implementation in ```exercise_code/networks/classification_net.py``` "
   ]
  },
  {
   "cell_type": "code",
   "execution_count": null,
   "metadata": {},
   "outputs": [],
   "source": [
    "num_layer = 2\n",
    "reg = 0.1\n",
    "\n",
    "model = ClassificationNet(activation=Sigmoid(), \n",
    "                          num_layer=num_layer, \n",
    "                          reg=reg,\n",
    "                          num_classes=10)"
   ]
  },
  {
   "cell_type": "markdown",
   "metadata": {},
   "source": [
    "Then, the forward and backward passes through the model were simply:\n",
    "\n",
    "```python\n",
    "\n",
    "# X is a batch of training features \n",
    "# X.shape = (batch_size, features_size)\n",
    "y_out = model.forward(X)\n",
    "\n",
    "# dout is the gradient of the loss function w.r.t the output of the network.\n",
    "# dout.shape = (batch_size, )\n",
    "model.backward(dout)\n",
    "```"
   ]
  },
  {
   "cell_type": "markdown",
   "metadata": {},
   "source": [
    "Just as the learning rate or the number of iterations we want to train for, the number of hidden layers and the number of units in each hidden layer are also hyperparameters. In this notebook you will play with networks of different sizes and will see the impact that the network capacity has."
   ]
  },
  {
   "cell_type": "markdown",
   "metadata": {},
   "source": [
    "## 1.3 Loss"
   ]
  },
  {
   "cell_type": "markdown",
   "metadata": {},
   "source": [
    "In order to measure how well a network is performing, we implemented several ```Loss``` classes (```L1```, ```MSE```, ```BCE```, each preferred for a certain type of problems) in ```exercise_code/networks/loss.py```.\n",
    "\n",
    "Each implemented a ```forward()``` method, which outputs a number that we use as a proxy for our network performance. \n",
    "\n",
    "Also, because our goal was to change the weights of the network such that this loss measure decreases, we were also interested in the gradients of the loss w.r.t the outputs of the network, $ \\nabla_{\\hat{y}} L({\\hat{y}}, {y}) $. This was implemented in ```backward()```. \n",
    "\n",
    "In previous exercises, we only worked with binary classification and used binary cross entropy (```BCE```) as a loss function.\n",
    "\n",
    "$$ BCE(\\hat{y}, y) = \\frac{1}{N} \\sum_{i=1}^N \\Big [-y_i \\log(\\hat{y_i}) - (1-y_i) \\log(1 - \\hat{y_i}) \\Big] $$ \n",
    "\n",
    "where\n",
    "- $ N $ was the number of samples we were considering\n",
    "- $\\hat{y}_i$ was the network's prediction for sample $i$. Note that this was a valid probability $\\in [0, 1]$, because we applied a [sigmoid](https://en.wikipedia.org/wiki/Sigmoid_function) activation on the last layer. \n",
    "- $ y_i $ was the ground truth label (0 or 1, depending on the class)\n",
    "\n",
    "Because we have 10 classes in the CIFAR10 dataset, we need a generalization of the binary cross entropy for multiple classes. This is simply called the cross entropy loss and has the following definition:\n",
    "\n",
    "$$ CE(\\hat{y}, y) = \\frac{1}{N} \\sum_{i=1}^N \\sum_{k=1}^{C} \\Big[ -y_{ik} \\log(\\hat{y}_{ik}) \\Big] $$\n",
    "\n",
    "where:\n",
    "- $ N $ is again the number of samples\n",
    "- $ C $ is the number of classes\n",
    "- $ \\hat{y}_{ik} $ is the probability that the model assigns for the $k$th class when the $i$th sample is the input. **Because we don't apply any activation function on the last layer of our network, its outputs for each sample will not be a valid probability distribution over the classes. We call these raw outputs of the network '[logits](https://datascience.stackexchange.com/questions/31041/what-does-logits-in-machine-learning-mean/31045)' and we will apply a [softmax](https://en.wikipedia.org/wiki/Softmax_function) activation in order to obtain a valid probability distribution.** \n",
    "- $y_{ik} = 1 $ iff the true label of the $i$th sample is $k$ and 0 otherwise. This is called a [one-hot encoding](https://machinelearningmastery.com/why-one-hot-encode-data-in-machine-learning/).\n",
    "\n",
    "You can check for yourself that when the number of classes $ C $ is 2, then the binary cross entropy is actually equivalent to the cross entropy.\n",
    "\n",
    "We have already implemented the ```CrossEntropyFromLogits``` for you. You can check it out in ```exercise_code/networks/loss.py ```"
   ]
  },
  {
   "cell_type": "code",
   "execution_count": 4,
   "metadata": {},
   "outputs": [],
   "source": [
    "loss = CrossEntropyFromLogits()"
   ]
  },
  {
   "cell_type": "markdown",
   "metadata": {},
   "source": [
    "Just as with the previous losses we have seen, we can simply get the results of the forward and backward passes as follows:"
   ]
  },
  {
   "cell_type": "markdown",
   "metadata": {},
   "source": [
    "```python\n",
    "# y_out is the output of the neural network\n",
    "# y_truth is the actual label from the dataset\n",
    "loss.forward(y_out, y_truth)\n",
    "loss.backward(y_out, y_truth)\n",
    "```"
   ]
  },
  {
   "cell_type": "markdown",
   "metadata": {},
   "source": [
    "## 1.4 Optimizer"
   ]
  },
  {
   "cell_type": "markdown",
   "metadata": {},
   "source": [
    "Now, knowing the gradient of the loss w.r.t the ouputs of the network, as well as the local gradient for each layer of the network, we can use the chain rule to compute all gradients. \n",
    "\n",
    "We implemented several optimizer classes (```SGD```, ```Adam```, ```sgd_momentum```, which you can check out in ```exercise_code/networks/optimizer.py```) that implement different first-order parameter update rules. The ```step()``` method iterates through all the parameters of a model and updates them using the gradient information.\n",
    "\n",
    "What the optimizer is doing, in pseudocode, is the following:\n",
    "\n",
    "```python\n",
    "for param in model:\n",
    "    # Use the gradient to update the weights.\n",
    "    update(param)\n",
    "    \n",
    "    # Reset the gradient after each update.\n",
    "    param.gradient = 0\n",
    "```\n",
    "\n",
    "```SGD``` had the simplest update rule:\n",
    "```python\n",
    "def update(param):\n",
    "    param = param - learning_rate * param.gradient\n",
    "```\n",
    "\n",
    "For the more complicated update rules, see ```exercise_code/networks/optimizer.py```"
   ]
  },
  {
   "cell_type": "markdown",
   "metadata": {},
   "source": [
    "## 1.5 Solver"
   ]
  },
  {
   "cell_type": "markdown",
   "metadata": {},
   "source": [
    "The ```Solver``` is where all the above elements come together: given a train and a validation dataloader, a model, a loss and an optimizer, it uses the training data to optimize a model in order to get better predictions. We simply call ```train()``` and it does its 'magic' for us!\n",
    "```python\n",
    "solver = Solver(model, \n",
    "                dataloaders['train'], \n",
    "                dataloaders['val'], \n",
    "                learning_rate=0.001, \n",
    "                loss_func=MSE(), \n",
    "                optimizer=SGD)\n",
    "\n",
    "solver.train(epochs=epochs)\n",
    "```\n",
    "\n",
    "In order to see, that there is no actual 'magic' check out its implementation in ```exercise_code/solver.py``` ;)."
   ]
  },
  {
   "cell_type": "markdown",
   "metadata": {},
   "source": [
    "# 2. An overview of hyperparameters"
   ]
  },
  {
   "cell_type": "markdown",
   "metadata": {
    "collapsed": true
   },
   "source": [
    "\n",
    "<img src=https://images.deepai.org/glossary-terms/05c646fe1676490aa0b8cab0732a02b2/hyperparams.png alt=hyperparameter width=700>\n",
    "\n",
    "A **hyperparameter** is a parameter that is set before the learning process begins. Recall that the parameters of weight matrix and bias vector are learned during the learning process.\n",
    "\n",
    "The hyperparameters are essential, for they control and affect the whole training and have a great impact on the performance of the model. \n",
    "\n",
    "Some examples of hyperparameters we have covered in lectures:\n",
    "* Network architecture\n",
    "    * Choice of activation function\n",
    "    * Number of layers\n",
    "    * ...\n",
    "* Learning rate\n",
    "* Number of epochs\n",
    "* Batch size\n",
    "* Regularization strength\n",
    "* Momentum\n",
    "* ..."
   ]
  },
  {
   "cell_type": "markdown",
   "metadata": {},
   "source": [
    "## Start debugging your own network!"
   ]
  },
  {
   "cell_type": "markdown",
   "metadata": {},
   "source": [
    "As already suggested in the lectures, you may always want to start from small and simple architectures, to make sure you are going the right way. \n",
    "\n",
    "First you may need to overfit a single training sample, then a few batches of training samples, then go deeper with larger neural networks and the whole training data.\n",
    "\n",
    "Here we always provide a default neural network (i.e. ClassificationNet) with arbitrary number of layers, which is a generalization from a fixed 2-layer neural network in exercise 5. You are welcome to implement your own network, in that case just implement **MyOwnNetwork** in ```exercise_code/networks/classification_net.py```. You can also copy things from ClassficationNet and make a little adjustment to your own network. For either way, just pick a network and comment out the other one, then run the cells below for debugging.\n",
    "\n",
    "__Note__: \n",
    "- Please, make sure you don't modify the ClassificationNet itself so that you can always have a working network to fall back on\n",
    "- In order to pass this submissions, you can **first stick to the default ClassificationNet implementation without changing any code at all**. The goal of this submission is to find reasonable hyperparameters and the parameter options of the ClassificationNet are broad enough.\n",
    "- Once you have surpassed the submission goal, you can try to implement additional activation functions in the accompanying notebook, try different weight initializations or other adjustments by writing your own network architecture in the MyOwnNetwork class."
   ]
  },
  {
   "cell_type": "markdown",
   "metadata": {},
   "source": [
    "First, let's begin with a 2-layer neural network, and overfit one single training sample.\n",
    "\n",
    "After training, let's evaluate the training process by plotting the loss curves."
   ]
  },
  {
   "cell_type": "code",
   "execution_count": 5,
   "metadata": {},
   "outputs": [
    {
     "name": "stdout",
     "output_type": "stream",
     "text": [
      "(Epoch 1 / 20) train loss: 2.336185; val loss: 2.333229\n",
      "(Epoch 2 / 20) train loss: 2.336185; val loss: 2.321700\n",
      "(Epoch 3 / 20) train loss: 2.212940; val loss: 2.329770\n",
      "(Epoch 4 / 20) train loss: 2.073685; val loss: 2.352375\n",
      "(Epoch 5 / 20) train loss: 1.914853; val loss: 2.381870\n",
      "(Epoch 6 / 20) train loss: 1.750914; val loss: 2.411081\n",
      "(Epoch 7 / 20) train loss: 1.590331; val loss: 2.436114\n",
      "(Epoch 8 / 20) train loss: 1.439159; val loss: 2.455856\n",
      "(Epoch 9 / 20) train loss: 1.299520; val loss: 2.471204\n",
      "(Epoch 10 / 20) train loss: 1.169624; val loss: 2.484401\n",
      "(Epoch 11 / 20) train loss: 1.047400; val loss: 2.497930\n",
      "(Epoch 12 / 20) train loss: 0.932375; val loss: 2.513601\n",
      "(Epoch 13 / 20) train loss: 0.825655; val loss: 2.532123\n",
      "(Epoch 14 / 20) train loss: 0.728964; val loss: 2.553217\n",
      "(Epoch 15 / 20) train loss: 0.643548; val loss: 2.576095\n",
      "(Epoch 16 / 20) train loss: 0.569287; val loss: 2.599962\n",
      "(Epoch 17 / 20) train loss: 0.505112; val loss: 2.624349\n",
      "(Epoch 18 / 20) train loss: 0.449966; val loss: 2.649219\n",
      "(Epoch 19 / 20) train loss: 0.403077; val loss: 2.674899\n",
      "(Epoch 20 / 20) train loss: 0.363609; val loss: 2.701872\n"
     ]
    }
   ],
   "source": [
    "from exercise_code.solver import Solver\n",
    "from exercise_code.networks.optimizer import SGD, Adam\n",
    "from exercise_code.networks import MyOwnNetwork\n",
    "\n",
    "num_layer = 2\n",
    "epochs = 20\n",
    "reg = 0.1\n",
    "batch_size = 4\n",
    "\n",
    "model = ClassificationNet(num_layer=num_layer, reg=reg)\n",
    "# model = MyOwnNetwork()\n",
    "\n",
    "loss = CrossEntropyFromLogits()\n",
    "\n",
    "# Make a new data loader with a single training image\n",
    "overfit_dataset = ImageFolderDataset(\n",
    "    mode='train',\n",
    "    root=cifar_root, \n",
    "    download_url=download_url,\n",
    "    transform=compose_transform,\n",
    "    limit_files=1\n",
    ")\n",
    "dataloaders['train_overfit_single_image'] = DataLoader(\n",
    "    dataset=overfit_dataset,\n",
    "    batch_size=batch_size,\n",
    "    shuffle=True,\n",
    "    drop_last=False,\n",
    ")\n",
    "\n",
    "# Decrease validation data for only debugging\n",
    "debugging_validation_dataset = ImageFolderDataset(\n",
    "    mode='val',\n",
    "    root=cifar_root, \n",
    "    download_url=download_url,\n",
    "    transform=compose_transform,\n",
    "    limit_files=100\n",
    ")\n",
    "dataloaders['val_500files'] = DataLoader(\n",
    "    dataset=debugging_validation_dataset,\n",
    "    batch_size=batch_size,\n",
    "    shuffle=True,\n",
    "    drop_last=True,\n",
    ")\n",
    "\n",
    "solver = Solver(model, dataloaders['train_overfit_single_image'], dataloaders['val_500files'], \n",
    "                learning_rate=1e-3, loss_func=loss, optimizer=Adam)\n",
    "\n",
    "solver.train(epochs=epochs)"
   ]
  },
  {
   "cell_type": "code",
   "execution_count": 6,
   "metadata": {},
   "outputs": [
    {
     "data": {
      "image/png": "[encoded data removed]",
      "text/plain": [
       "<Figure size 432x288 with 1 Axes>"
      ]
     },
     "metadata": {
      "needs_background": "light"
     },
     "output_type": "display_data"
    }
   ],
   "source": [
    "plt.title('Loss curves')\n",
    "plt.plot(solver.train_loss_history, '-', label='train')\n",
    "plt.plot(solver.val_loss_history, '-', label='val')\n",
    "plt.legend(loc='lower right')\n",
    "plt.xlabel('Iteration')\n",
    "plt.show()"
   ]
  },
  {
   "cell_type": "code",
   "execution_count": 7,
   "metadata": {},
   "outputs": [
    {
     "name": "stdout",
     "output_type": "stream",
     "text": [
      "Training accuray: 1.00000\n",
      "Validation accuray: 0.07000\n"
     ]
    }
   ],
   "source": [
    "print(\"Training accuray: %.5f\" % (solver.get_dataset_accuracy(dataloaders['train_overfit_single_image'])))\n",
    "print(\"Validation accuray: %.5f\" % (solver.get_dataset_accuracy(dataloaders['val_500files'])))"
   ]
  },
  {
   "cell_type": "markdown",
   "metadata": {},
   "source": [
    "This time let's try to overfit to a small set of training batch samples. Please observe the difference from above. "
   ]
  },
  {
   "cell_type": "code",
   "execution_count": 8,
   "metadata": {},
   "outputs": [
    {
     "name": "stdout",
     "output_type": "stream",
     "text": [
      "(Epoch 1 / 100) train loss: 2.331938; val loss: 2.334331\n",
      "(Epoch 2 / 100) train loss: 2.325609; val loss: 2.337541\n",
      "(Epoch 3 / 100) train loss: 2.207519; val loss: 2.391639\n",
      "(Epoch 4 / 100) train loss: 2.048381; val loss: 2.439445\n",
      "(Epoch 5 / 100) train loss: 2.048479; val loss: 2.522273\n",
      "(Epoch 6 / 100) train loss: 1.925998; val loss: 2.566617\n",
      "(Epoch 7 / 100) train loss: 1.857588; val loss: 2.628791\n",
      "(Epoch 8 / 100) train loss: 1.725757; val loss: 2.711391\n",
      "(Epoch 9 / 100) train loss: 1.752357; val loss: 2.795958\n",
      "(Epoch 10 / 100) train loss: 1.810925; val loss: 2.842225\n",
      "(Epoch 11 / 100) train loss: 1.718056; val loss: 2.855684\n",
      "(Epoch 12 / 100) train loss: 1.646908; val loss: 2.979115\n",
      "(Epoch 13 / 100) train loss: 1.625130; val loss: 3.089495\n",
      "(Epoch 14 / 100) train loss: 1.672408; val loss: 3.119818\n",
      "(Epoch 15 / 100) train loss: 1.598648; val loss: 3.084452\n",
      "(Epoch 16 / 100) train loss: 1.674407; val loss: 3.100027\n",
      "(Epoch 17 / 100) train loss: 1.714083; val loss: 3.168348\n",
      "(Epoch 18 / 100) train loss: 1.656148; val loss: 3.252408\n",
      "(Epoch 19 / 100) train loss: 1.739993; val loss: 3.245475\n",
      "(Epoch 20 / 100) train loss: 1.561257; val loss: 3.253790\n",
      "(Epoch 21 / 100) train loss: 1.540376; val loss: 3.314405\n",
      "(Epoch 22 / 100) train loss: 1.646614; val loss: 3.308773\n",
      "(Epoch 23 / 100) train loss: 1.581151; val loss: 3.302904\n",
      "(Epoch 24 / 100) train loss: 1.422976; val loss: 3.371343\n",
      "(Epoch 25 / 100) train loss: 1.562293; val loss: 3.425782\n",
      "(Epoch 26 / 100) train loss: 1.647568; val loss: 3.397219\n",
      "(Epoch 27 / 100) train loss: 1.467402; val loss: 3.377734\n",
      "(Epoch 28 / 100) train loss: 1.495070; val loss: 3.354369\n",
      "(Epoch 29 / 100) train loss: 1.588650; val loss: 3.382466\n",
      "(Epoch 30 / 100) train loss: 1.483492; val loss: 3.407889\n",
      "(Epoch 31 / 100) train loss: 1.515264; val loss: 3.393643\n",
      "(Epoch 32 / 100) train loss: 1.466285; val loss: 3.401993\n",
      "(Epoch 33 / 100) train loss: 1.423159; val loss: 3.425434\n",
      "(Epoch 34 / 100) train loss: 1.400972; val loss: 3.430258\n",
      "(Epoch 35 / 100) train loss: 1.348053; val loss: 3.429814\n",
      "(Epoch 36 / 100) train loss: 1.329759; val loss: 3.433689\n",
      "(Epoch 37 / 100) train loss: 1.288834; val loss: 3.455196\n",
      "(Epoch 38 / 100) train loss: 1.348734; val loss: 3.464836\n",
      "(Epoch 39 / 100) train loss: 1.260980; val loss: 3.498036\n",
      "(Epoch 40 / 100) train loss: 1.358767; val loss: 3.473409\n",
      "(Epoch 41 / 100) train loss: 1.390493; val loss: 3.433425\n",
      "(Epoch 42 / 100) train loss: 1.292045; val loss: 3.491149\n",
      "(Epoch 43 / 100) train loss: 1.268652; val loss: 3.539978\n",
      "(Epoch 44 / 100) train loss: 1.330824; val loss: 3.513853\n",
      "(Epoch 45 / 100) train loss: 1.287729; val loss: 3.509725\n",
      "(Epoch 46 / 100) train loss: 1.290267; val loss: 3.519821\n",
      "(Epoch 47 / 100) train loss: 1.172291; val loss: 3.522474\n",
      "(Epoch 48 / 100) train loss: 1.195694; val loss: 3.491398\n",
      "(Epoch 49 / 100) train loss: 1.170439; val loss: 3.480601\n",
      "(Epoch 50 / 100) train loss: 1.119711; val loss: 3.482389\n",
      "(Epoch 51 / 100) train loss: 1.257560; val loss: 3.513039\n",
      "(Epoch 52 / 100) train loss: 1.181583; val loss: 3.600747\n",
      "(Epoch 53 / 100) train loss: 1.283340; val loss: 3.644795\n",
      "(Epoch 54 / 100) train loss: 1.265615; val loss: 3.624526\n",
      "(Epoch 55 / 100) train loss: 1.159158; val loss: 3.576834\n",
      "(Epoch 56 / 100) train loss: 1.182414; val loss: 3.551872\n",
      "(Epoch 57 / 100) train loss: 1.105850; val loss: 3.560429\n",
      "(Epoch 58 / 100) train loss: 1.130616; val loss: 3.571432\n",
      "(Epoch 59 / 100) train loss: 1.134558; val loss: 3.574873\n",
      "(Epoch 60 / 100) train loss: 1.027422; val loss: 3.568672\n",
      "(Epoch 61 / 100) train loss: 1.027777; val loss: 3.541614\n",
      "(Epoch 62 / 100) train loss: 1.071632; val loss: 3.526807\n",
      "(Epoch 63 / 100) train loss: 1.000724; val loss: 3.545189\n",
      "(Epoch 64 / 100) train loss: 1.001871; val loss: 3.569452\n",
      "(Epoch 65 / 100) train loss: 1.005035; val loss: 3.568322\n",
      "(Epoch 66 / 100) train loss: 1.012345; val loss: 3.581639\n",
      "(Epoch 67 / 100) train loss: 1.031481; val loss: 3.623874\n",
      "(Epoch 68 / 100) train loss: 1.022743; val loss: 3.655385\n",
      "(Epoch 69 / 100) train loss: 1.002597; val loss: 3.638895\n",
      "(Epoch 70 / 100) train loss: 1.047481; val loss: 3.595655\n",
      "(Epoch 71 / 100) train loss: 1.074237; val loss: 3.591181\n",
      "(Epoch 72 / 100) train loss: 1.023344; val loss: 3.627247\n",
      "(Epoch 73 / 100) train loss: 0.985536; val loss: 3.649597\n",
      "(Epoch 74 / 100) train loss: 0.956673; val loss: 3.626058\n",
      "(Epoch 75 / 100) train loss: 0.953968; val loss: 3.563884\n",
      "(Epoch 76 / 100) train loss: 0.932819; val loss: 3.543700\n",
      "(Epoch 77 / 100) train loss: 0.907463; val loss: 3.561685\n",
      "(Epoch 78 / 100) train loss: 0.920114; val loss: 3.581150\n",
      "(Epoch 79 / 100) train loss: 0.902032; val loss: 3.603120\n",
      "(Epoch 80 / 100) train loss: 0.899427; val loss: 3.566424\n",
      "(Epoch 81 / 100) train loss: 0.928899; val loss: 3.577112\n",
      "(Epoch 82 / 100) train loss: 0.924480; val loss: 3.587221\n",
      "(Epoch 83 / 100) train loss: 0.964044; val loss: 3.580696\n",
      "(Epoch 84 / 100) train loss: 0.874808; val loss: 3.583204\n",
      "(Epoch 85 / 100) train loss: 0.938830; val loss: 3.587788\n",
      "(Epoch 86 / 100) train loss: 0.853180; val loss: 3.594803\n",
      "(Epoch 87 / 100) train loss: 0.909091; val loss: 3.579225\n",
      "(Epoch 88 / 100) train loss: 0.899377; val loss: 3.540678\n",
      "(Epoch 89 / 100) train loss: 0.877273; val loss: 3.561657\n",
      "(Epoch 90 / 100) train loss: 0.851209; val loss: 3.592029\n",
      "(Epoch 91 / 100) train loss: 0.860576; val loss: 3.592714\n",
      "(Epoch 92 / 100) train loss: 0.917568; val loss: 3.586197\n",
      "(Epoch 93 / 100) train loss: 0.916384; val loss: 3.648954\n",
      "(Epoch 94 / 100) train loss: 1.027391; val loss: 3.628603\n",
      "(Epoch 95 / 100) train loss: 0.898212; val loss: 3.659187\n",
      "(Epoch 96 / 100) train loss: 0.937496; val loss: 3.673554\n",
      "(Epoch 97 / 100) train loss: 0.982593; val loss: 3.657673\n",
      "(Epoch 98 / 100) train loss: 0.895751; val loss: 3.655952\n",
      "(Epoch 99 / 100) train loss: 0.840275; val loss: 3.596174\n",
      "(Epoch 100 / 100) train loss: 0.906998; val loss: 3.558889\n"
     ]
    }
   ],
   "source": [
    "from exercise_code.networks import MyOwnNetwork\n",
    "\n",
    "num_layer = 2\n",
    "epochs = 100\n",
    "reg = 0.1\n",
    "num_samples = 10\n",
    "\n",
    "model = ClassificationNet(num_layer=num_layer, reg=reg)\n",
    "# model = MyOwnNetwork()\n",
    "\n",
    "loss = CrossEntropyFromLogits()\n",
    "\n",
    "# Make a new data loader with a our num_samples training image\n",
    "overfit_dataset = ImageFolderDataset(\n",
    "    mode='train',\n",
    "    root=cifar_root, \n",
    "    download_url=download_url,\n",
    "    transform=compose_transform,\n",
    "    limit_files=num_samples\n",
    ")\n",
    "dataloaders['train_overfit_10samples'] = DataLoader(\n",
    "    dataset=overfit_dataset,\n",
    "    batch_size=batch_size,\n",
    "    shuffle=True,\n",
    "    drop_last=False,\n",
    ")\n",
    "\n",
    "solver = Solver(model, dataloaders['train_overfit_10samples'], dataloaders['val_500files'], \n",
    "                learning_rate=1e-3, loss_func=loss, optimizer=Adam)\n",
    "\n",
    "solver.train(epochs=epochs)"
   ]
  },
  {
   "cell_type": "code",
   "execution_count": 9,
   "metadata": {},
   "outputs": [
    {
     "data": {
      "image/png": "[encoded data removed]",
      "text/plain": [
       "<Figure size 432x288 with 1 Axes>"
      ]
     },
     "metadata": {
      "needs_background": "light"
     },
     "output_type": "display_data"
    }
   ],
   "source": [
    "plt.title('Loss curves')\n",
    "plt.plot(solver.train_loss_history, '-', label='train')\n",
    "plt.plot(solver.val_loss_history, '-', label='val')\n",
    "plt.legend(loc='lower right')\n",
    "plt.xlabel('Iteration')\n",
    "plt.show()"
   ]
  },
  {
   "cell_type": "code",
   "execution_count": 10,
   "metadata": {},
   "outputs": [
    {
     "name": "stdout",
     "output_type": "stream",
     "text": [
      "Training accuray: 1.00000\n",
      "Validation accuray: 0.06000\n"
     ]
    }
   ],
   "source": [
    "print(\"Training accuray: %.5f\" % (solver.get_dataset_accuracy(dataloaders['train_overfit_10samples'])))\n",
    "print(\"Validation accuray: %.5f\" % (solver.get_dataset_accuracy(dataloaders['val_500files'])))"
   ]
  },
  {
   "cell_type": "markdown",
   "metadata": {},
   "source": [
    "If you're overfitting the training data, that means the network's implementation is correct. However, as you have more samples to overfit, your accuracy will be way lower. You can increase the number of epochs above to achieve better results.\n",
    "\n",
    "Now let's try to feed all the training and validation data into the network, but this time we set the same hyperparameters for 2-layer and 5-layer networks, and compare the different behaviors.\n",
    "\n",
    "__Note__: This may take about 1 min for each epoch as the training set is quite large. For convenience, we only train on 1000 images for now but use the full validation set."
   ]
  },
  {
   "cell_type": "code",
   "execution_count": 11,
   "metadata": {},
   "outputs": [
    {
     "name": "stdout",
     "output_type": "stream",
     "text": [
      "(Epoch 1 / 5) train loss: 2.305701; val loss: 2.305666\n",
      "(Epoch 2 / 5) train loss: 2.278313; val loss: 2.217917\n",
      "(Epoch 3 / 5) train loss: 2.229720; val loss: 2.238025\n",
      "(Epoch 4 / 5) train loss: 2.225433; val loss: 2.224318\n",
      "(Epoch 5 / 5) train loss: 2.221382; val loss: 2.223503\n"
     ]
    }
   ],
   "source": [
    "from exercise_code.networks import MyOwnNetwork\n",
    "\n",
    "num_layer = 2\n",
    "epochs = 5\n",
    "reg = 0.01\n",
    "\n",
    "# Make a new data loader with 1000 training samples\n",
    "num_samples = 1000\n",
    "overfit_dataset = ImageFolderDataset(\n",
    "    mode='train',\n",
    "    root=cifar_root, \n",
    "    download_url=download_url,\n",
    "    transform=compose_transform,\n",
    "    limit_files=num_samples\n",
    ")\n",
    "dataloaders['train_small'] = DataLoader(\n",
    "    dataset=overfit_dataset,\n",
    "    batch_size=batch_size,\n",
    "    shuffle=True,\n",
    "    drop_last=False,\n",
    ")\n",
    "\n",
    "\n",
    "# Change here if you want to use the full training set\n",
    "use_full_training_set = False\n",
    "if not use_full_training_set:\n",
    "    train_loader = dataloaders['train_small']\n",
    "else:\n",
    "    train_loader = dataloaders['train']\n",
    "    \n",
    "\n",
    "model = ClassificationNet(num_layer=num_layer, reg=reg)\n",
    "# model = MyOwnNetwork()\n",
    "\n",
    "loss = CrossEntropyFromLogits()\n",
    "\n",
    "solver = Solver(model, train_loader, dataloaders['val'], \n",
    "                learning_rate=1e-3, loss_func=loss, optimizer=Adam)\n",
    "\n",
    "solver.train(epochs=epochs)"
   ]
  },
  {
   "cell_type": "code",
   "execution_count": 12,
   "metadata": {},
   "outputs": [
    {
     "data": {
      "image/png": "[encoded data removed]",
      "text/plain": [
       "<Figure size 432x288 with 1 Axes>"
      ]
     },
     "metadata": {
      "needs_background": "light"
     },
     "output_type": "display_data"
    }
   ],
   "source": [
    "plt.title('Loss curves')\n",
    "plt.plot(solver.train_loss_history, '-', label='train')\n",
    "plt.plot(solver.val_loss_history, '-', label='val')\n",
    "plt.legend(loc='lower right')\n",
    "plt.xlabel('Iteration')\n",
    "plt.show()"
   ]
  },
  {
   "cell_type": "code",
   "execution_count": 13,
   "metadata": {},
   "outputs": [
    {
     "name": "stdout",
     "output_type": "stream",
     "text": [
      "Training accuray: 0.31200\n",
      "Validation accuray: 0.25771\n"
     ]
    }
   ],
   "source": [
    "print(\"Training accuray: %.5f\" % (solver.get_dataset_accuracy(train_loader)))\n",
    "print(\"Validation accuray: %.5f\" % (solver.get_dataset_accuracy(dataloaders['val'])))"
   ]
  },
  {
   "cell_type": "code",
   "execution_count": 14,
   "metadata": {},
   "outputs": [
    {
     "name": "stdout",
     "output_type": "stream",
     "text": [
      "(Epoch 1 / 5) train loss: 2.305912; val loss: 2.305979\n",
      "(Epoch 2 / 5) train loss: 2.327826; val loss: 2.308235\n",
      "(Epoch 3 / 5) train loss: 2.319178; val loss: 2.321164\n",
      "(Epoch 4 / 5) train loss: 2.313834; val loss: 2.323397\n",
      "(Epoch 5 / 5) train loss: 2.318642; val loss: 2.314411\n"
     ]
    }
   ],
   "source": [
    "from exercise_code.networks import MyOwnNetwork\n",
    "\n",
    "num_layer = 5\n",
    "epochs = 5\n",
    "reg = 0.01\n",
    "\n",
    "model = ClassificationNet(num_layer=num_layer, reg=reg)\n",
    "# model = MyOwnNetwork()\n",
    "\n",
    "# Change here if you want to use the full training set\n",
    "use_full_training_set = False\n",
    "if not use_full_training_set:\n",
    "    train_loader = dataloaders['train_small']\n",
    "else:\n",
    "    train_loader = dataloaders['train']\n",
    "\n",
    "loss = CrossEntropyFromLogits()\n",
    "\n",
    "solver = Solver(model, train_loader, dataloaders['val'], \n",
    "                learning_rate=1e-3, loss_func=loss, optimizer=Adam)\n",
    "\n",
    "solver.train(epochs=epochs)"
   ]
  },
  {
   "cell_type": "code",
   "execution_count": 15,
   "metadata": {},
   "outputs": [
    {
     "data": {
      "image/png": "[encoded data removed]",
      "text/plain": [
       "<Figure size 432x288 with 1 Axes>"
      ]
     },
     "metadata": {
      "needs_background": "light"
     },
     "output_type": "display_data"
    }
   ],
   "source": [
    "plt.title('Loss curves')\n",
    "plt.plot(solver.train_loss_history, '-', label='train')\n",
    "plt.plot(solver.val_loss_history, '-', label='val')\n",
    "plt.legend(loc='lower right')\n",
    "plt.xlabel('Iteration')\n",
    "plt.show()"
   ]
  },
  {
   "cell_type": "code",
   "execution_count": 16,
   "metadata": {},
   "outputs": [
    {
     "name": "stdout",
     "output_type": "stream",
     "text": [
      "Training accuray: 0.10500\n",
      "Validation accuray: 0.09826\n"
     ]
    }
   ],
   "source": [
    "print(\"Training accuray: %.5f\" % (solver.get_dataset_accuracy(train_loader)))\n",
    "print(\"Validation accuray: %.5f\" % (solver.get_dataset_accuracy(dataloaders['val'])))"
   ]
  },
  {
   "cell_type": "markdown",
   "metadata": {},
   "source": [
    "As you can see from above, the same hyperparameter set can decrease the loss for a 2-layer network, but for 5-layer network, it hardly works.\n",
    "\n",
    "The steps above are already mentioned in the lectures as debugging steps before training a neural network. \n",
    "\n",
    "If you implement your own network, make sure you do the steps above before tuning the hyperparameters as below. "
   ]
  },
  {
   "cell_type": "markdown",
   "metadata": {},
   "source": [
    "## Difficulty in tuning hyperparameters\n",
    "As can be seen through the results of training a larger network, training with whole data doesn't fit the training data as well as training with small number of training data. Besides, the architecture of neural network makes a difference, too. Small decisions on hyperparameters count. \n",
    "\n",
    "Usually, but not always, hyperparameters cannot be learned using well known gradient based methods (such as gradient descent), which are commonly employed to learn parameters. Besides, some hyperparameters can affect the structure of the model and the loss function.\n",
    "\n",
    "As mentioned before, hyperparameters need to be set before training. Tuning hyperparameters is hard, because you always have to try different combinations of the hyperparameters, train the network, do the validation and pick the best one. Besides, it is not guaranteed that you'll find the best combination.\n",
    "\n",
    "Next you will do hands on learning with hyperparameter tuning methods that are covered in lectures."
   ]
  },
  {
   "cell_type": "markdown",
   "metadata": {},
   "source": [
    "# Hyperparameter Tuning\n",
    "\n",
    "![alt text](https://blog.floydhub.com/content/images/2018/08/Screen-Shot-2018-08-22-at-17.59.25.png \"\")\n",
    "\n",
    "One of the main challenges in deep learning is finding the set of hyperparameters that performs best.\n",
    "\n",
    "So far, we have followed a manual approach by guessing hyperparameters, running the model, observing the result and maybe tweaking the hyperparameters based on this result. As you have probably noticed, this manual hyperparameter tuning is unstructured, inefficient and can become very tedious.\n",
    "\n",
    "\n",
    "A more systematic (and actually very simple) approach for hyperparameter tuning that you've already learned in the lecture  is implementing a **Grid Search**. \n",
    "\n",
    "\n",
    "\n",
    "### Grid Search\n",
    "Grid search is a simple and naive, yet effective method to automate the hyperparameter tuning:\n",
    "\n",
    "* First, you define the set of parameters you want to tune, e.g. $\\{learning\\_rate, regularization\\_strength\\}$.\n",
    "\n",
    "* For each hyperparameter, you then define a set of possible values, e.g. $learning\\_rate = \\{0.0001, 0.001, 0.01, 0.1\\}$.\n",
    "\n",
    "* Then, you train a model for every possible combination of these hyperparameter values and afterwards select the combination that works best (e.g. in terms of accuracy on your validation set).\n",
    "\n",
    "Check out our grid search implementation in `exercise_code/hyperparameter_tuning.py`. We show a simple for loop implementation and a more sophisticated one for multiple inputs.\n",
    "\n",
    "*Note: to keep things simple for the beginning, it'll be enough to just focus on the hyperparameters `learning_rate` and `regularization_strength`\n",
    " here, as in the example above.*"
   ]
  },
  {
   "cell_type": "code",
   "execution_count": 17,
   "metadata": {},
   "outputs": [
    {
     "name": "stdout",
     "output_type": "stream",
     "text": [
      "\n",
      "Evaluating Config #1 [of 3]:\n",
      " {'learning_rate': 0.01, 'reg': 0.0001}\n",
      "(Epoch 1 / 10) train loss: 2.302778; val loss: 2.302379\n",
      "(Epoch 2 / 10) train loss: 2.557201; val loss: 2.539039\n",
      "(Epoch 3 / 10) train loss: 2.714748; val loss: 2.691369\n",
      "(Epoch 4 / 10) train loss: 2.879693; val loss: 2.948051\n"
     ]
    },
    {
     "name": "stderr",
     "output_type": "stream",
     "text": [
      "/home/timo/Programme/Pycharm/IN2DL/exercise_06/exercise_code/networks/layer.py:66: RuntimeWarning: overflow encountered in exp\n",
      "  outputs = 1 / (1 + np.exp(-x))\n"
     ]
    },
    {
     "name": "stdout",
     "output_type": "stream",
     "text": [
      "(Epoch 5 / 10) train loss: 3.045798; val loss: 3.147348\n",
      "(Epoch 6 / 10) train loss: 3.170565; val loss: 3.251201\n",
      "Stopping early at epoch 5!\n",
      "\n",
      "Evaluating Config #2 [of 3]:\n",
      " {'learning_rate': 0.001, 'reg': 0.0001}\n",
      "(Epoch 1 / 10) train loss: 2.302776; val loss: 2.302850\n",
      "(Epoch 2 / 10) train loss: 2.188627; val loss: 2.018576\n",
      "(Epoch 3 / 10) train loss: 1.999532; val loss: 1.933551\n",
      "(Epoch 4 / 10) train loss: 1.898786; val loss: 1.913173\n",
      "(Epoch 5 / 10) train loss: 1.842945; val loss: 1.903888\n",
      "(Epoch 6 / 10) train loss: 1.772162; val loss: 1.890987\n",
      "(Epoch 7 / 10) train loss: 1.720157; val loss: 1.947260\n",
      "(Epoch 8 / 10) train loss: 1.652996; val loss: 1.945988\n",
      "(Epoch 9 / 10) train loss: 1.592163; val loss: 1.927798\n",
      "(Epoch 10 / 10) train loss: 1.525986; val loss: 1.947524\n",
      "\n",
      "Evaluating Config #3 [of 3]:\n",
      " {'learning_rate': 0.0001, 'reg': 0.0001}\n",
      "(Epoch 1 / 10) train loss: 2.302742; val loss: 2.302700\n",
      "(Epoch 2 / 10) train loss: 2.286272; val loss: 2.243366\n",
      "(Epoch 3 / 10) train loss: 2.212058; val loss: 2.153702\n",
      "(Epoch 4 / 10) train loss: 2.136847; val loss: 2.086200\n",
      "(Epoch 5 / 10) train loss: 2.075843; val loss: 2.034195\n",
      "(Epoch 6 / 10) train loss: 2.025140; val loss: 1.996724\n",
      "(Epoch 7 / 10) train loss: 1.980983; val loss: 1.980872\n",
      "(Epoch 8 / 10) train loss: 1.941590; val loss: 1.947735\n",
      "(Epoch 9 / 10) train loss: 1.904624; val loss: 1.928624\n",
      "(Epoch 10 / 10) train loss: 1.870713; val loss: 1.909161\n",
      "\n",
      "Search done. Best Val Loss = 1.8909870710049272\n",
      "Best Config: {'learning_rate': 0.001, 'reg': 0.0001}\n"
     ]
    }
   ],
   "source": [
    "from exercise_code.networks import MyOwnNetwork\n",
    "\n",
    "# Specify the used network\n",
    "model_class = ClassificationNet\n",
    "\n",
    "from exercise_code import hyperparameter_tuning\n",
    "best_model, results = hyperparameter_tuning.grid_search(\n",
    "    dataloaders['train_small'], dataloaders['val_500files'],\n",
    "    grid_search_spaces = {\n",
    "        \"learning_rate\": [1e-2, 1e-3, 1e-4], \n",
    "        \"reg\": [1e-4]\n",
    "    },\n",
    "    model_class=model_class,\n",
    "    epochs=10, patience=5)"
   ]
  },
  {
   "cell_type": "markdown",
   "metadata": {},
   "source": [
    "From the results of your grid search, you might already have found some hyperparameter combinations that work better than others. A common practice is to now repeat the grid search on a more narrow domain centered around the parameters that worked best. \n",
    "\n",
    "**Conclusion Grid Search**\n",
    "\n",
    "With grid search we now have automated the hyperparameter tuning to a certain degree. Another advantage is, that since the training of all models are independent of each other, you can parallelize the grid search, i.e.,  try out different hyperparameter configurations in parallel on different machines.\n",
    "\n",
    "However, as you have probably noticed, there is one big problem with this approach: the number of possible combinations to try out grows exponentially with the number of hyperparameters (\"curse of dimensionality\"). As we add more hyperparameters to the grid search, the search space will explode in time complexity, making this strategy unfeasible."
   ]
  },
  {
   "cell_type": "markdown",
   "metadata": {},
   "source": [
    "Especially when your search space contains more than 3 or 4 dimensions, it is often better to use another, similar hyperparameter tuning method that you've already learned about: random search."
   ]
  },
  {
   "cell_type": "markdown",
   "metadata": {},
   "source": [
    "## Random Search\n",
    "Random search is very similar to grid search, with the only difference, that instead of providing specific values for every hyperparameter, you only define a range for each hyperparameter - then, the values are sampled randomly from the provided ranges.\n",
    "\n",
    "![alt text](https://i.stack.imgur.com/cIDuR.png \"\")\n",
    "\n",
    "The figure above illustrates the difference in the hyperparameter space exploration between grid search and random search: assume you have 2 hyperparameters with each 3 values. Running a grid search results in training $3^2=9$ different models - but in the end, you've just tired out 3 values for each parameter. For random search on the other hand, after training 9 models you'll have tried out 9 different values for each hyperparameter, which often leads much faster to good results.\n",
    "\n",
    "To get a deeper understanding of random search and why it is more efficient than grid search, you should definitely check out this paper: http://www.jmlr.org/papers/volume13/bergstra12a/bergstra12a.pdf\n",
    "\n",
    "\n",
    "\n",
    "\n",
    "Now please implement the `nn_random_search` function in `exercise_code/networks/hyperparameter_tuning.py`. \n",
    "\n",
    "*Hint: regarding the sample space of each parameter, think about the scale for which it makes most sense to sample in. For example the learning rate is usually sampled on a logarithmic scale!*\n",
    "\n",
    "*For simplicity and speed, just use the `train_batches`-dataloader!*"
   ]
  },
  {
   "cell_type": "code",
   "execution_count": 22,
   "metadata": {},
   "outputs": [
    {
     "ename": "SyntaxError",
     "evalue": "invalid syntax (<ipython-input-22-43ca807fed63>, line 12)",
     "output_type": "error",
     "traceback": [
      "\u001b[0;36m  File \u001b[0;32m\"<ipython-input-22-43ca807fed63>\"\u001b[0;36m, line \u001b[0;32m12\u001b[0m\n\u001b[0;31m    \"reg\": ([1e-3, 1e-7], \"log\"),\u001b[0m\n\u001b[0m    ^\u001b[0m\n\u001b[0;31mSyntaxError\u001b[0m\u001b[0;31m:\u001b[0m invalid syntax\n"
     ]
    }
   ],
   "source": [
    "from exercise_code.hyperparameter_tuning import random_search\n",
    "from exercise_code.networks import MyOwnNetwork\n",
    "\n",
    "# Specify the used network\n",
    "model_class = ClassificationNet\n",
    "\n",
    "best_model, results = random_search(\n",
    "    dataloaders['train_small'], dataloaders['val_500files'],\n",
    "    random_search_spaces = {\n",
    "        \"learning_rate\": ([0.0001, 0.005,0.1], 'log'),\n",
    "        \"hidden_size\":([100,500],\"int\")\n",
    "        \"reg\": ([1e-7, 1e-3], \"log\"),\n",
    "        \"loss_func\": ([CrossEntropyFromLogits()], \"item\")\n",
    "    },\n",
    "    model_class=model_class,\n",
    "    num_search = 1, epochs=6, patience=3)"
   ]
  },
  {
   "cell_type": "markdown",
   "metadata": {},
   "source": [
    "If your implementation works, then it's time to run it with the whole dataset, and let it search for a few hours for a nice configuration. \n",
    "\n",
    "However, to save some time, let's first implement an **early-stopping** mechanism, that you also already know from the lecture."
   ]
  },
  {
   "cell_type": "markdown",
   "metadata": {},
   "source": [
    "## Early Stopping"
   ]
  },
  {
   "cell_type": "markdown",
   "metadata": {},
   "source": [
    "By now you've already seen a lot of training curves:\n",
    "\n",
    "<img src=http://fouryears.eu/wp-content/uploads/2017/12/early_stopping.png></img>\n",
    "\n",
    "Usually, at some point the validation loss goes up again, which is a sign that we're overfitting to our training data. Since it actually doesn't make any sense to train further at this point, it's common practice to apply \"early stopping\", i.e., cancel the training process when the validation loss doesn't improve anymore. The nice thing about this concept is, that not only it improves generalization through the prevention of overfitting, but also it saves us a lot of time - one of our most valuable resources in deep learning.\n",
    "\n",
    "Since there are natural fluctuations in the validation loss, you usually don't cancel the training process right at the first epoch when the validation-loss increases, but instead, you wait for some epochs (specified by the `patience`-parameter) and if the loss still doesn't improve, we stop.\n",
    "\n",
    "Now, take a look at the implement of early stopping mechanism in the `solver.py` file."
   ]
  },
  {
   "cell_type": "markdown",
   "metadata": {},
   "source": [
    "## Let's find the perfect model!"
   ]
  },
  {
   "cell_type": "markdown",
   "metadata": {},
   "source": [
    "You've now set everything up to start training your model and finding a nice set of hyper parameters using a combination of grid or random search!\n",
    "\n",
    "Since we'll now be training with a much larger number of samples, you should be aware that this process will definitely take some time! So be prepared to let your machine run for a while. \n",
    "\n",
    "At the beginning, it's a good approach to first do a coarse random search across a wide range of values to find promising sub-ranges of your parameter space. Afterwards, you can zoom in to these ranges and do another random search (or grid search) to finetune the configuration.\n",
    "\n",
    "You don't have to use the whole dataset at the beginning, instead you can also use a medium large subset of the samples. Also, you don't need to train for a large number of epochs - as mentioned above: we first want to get an overview about our hyper parameters.\n",
    "\n",
    "**Task: put in some reasonable ranges for the hyperparameters and evaluate them using random search!**\n",
    "\n",
    "Finally, once you've found some good hyper parameters, train on the whole dataset for a large number of epochs and make sure you use the full training data!"
   ]
  },
  {
   "cell_type": "code",
   "execution_count": null,
   "metadata": {},
   "outputs": [
    {
     "name": "stdout",
     "output_type": "stream",
     "text": [
      "\n",
      "Evaluating Config #1 [of 100]:\n",
      " {'learning_rate': 1.7911022051237547e-05, 'hidden_size': 126, 'reg': 0.00023206856930586603, 'loss_func': <exercise_code.networks.loss.CrossEntropyFromLogits object at 0x7f45365f6b20>, 'num_layer': 7, 'activation': <exercise_code.networks.layer.LeakyRelu object at 0x7f45365f6160>}\n",
      "(Epoch 1 / 6) train loss: 2.302694; val loss: 2.302694\n",
      "(Epoch 2 / 6) train loss: 2.302695; val loss: 2.302689\n",
      "(Epoch 3 / 6) train loss: 2.302670; val loss: 2.302682\n",
      "(Epoch 4 / 6) train loss: 2.302657; val loss: 2.302685\n",
      "(Epoch 5 / 6) train loss: 2.302641; val loss: 2.302689\n",
      "Stopping early at epoch 4!\n",
      "\n",
      "Evaluating Config #2 [of 100]:\n",
      " {'learning_rate': 1.365368250717962e-05, 'hidden_size': 412, 'reg': 0.0004200479382395511, 'loss_func': <exercise_code.networks.loss.CrossEntropyFromLogits object at 0x7f45365f6b20>, 'num_layer': 5, 'activation': <exercise_code.networks.layer.LeakyRelu object at 0x7f45365f6160>}\n",
      "(Epoch 1 / 6) train loss: 2.303332; val loss: 2.303332\n",
      "(Epoch 2 / 6) train loss: 2.303320; val loss: 2.303302\n",
      "(Epoch 3 / 6) train loss: 2.303292; val loss: 2.303301\n",
      "(Epoch 4 / 6) train loss: 2.303302; val loss: 2.303349\n",
      "(Epoch 5 / 6) train loss: 2.303366; val loss: 2.303461\n",
      "Stopping early at epoch 4!\n",
      "\n",
      "Evaluating Config #3 [of 100]:\n",
      " {'learning_rate': 0.04223047220306648, 'hidden_size': 444, 'reg': 7.378999253578791e-05, 'loss_func': <exercise_code.networks.loss.CrossEntropyFromLogits object at 0x7f45365f6b20>, 'num_layer': 4, 'activation': <exercise_code.networks.layer.LeakyRelu object at 0x7f45365f6160>}\n",
      "(Epoch 1 / 6) train loss: 2.302715; val loss: 2.302715\n",
      "(Epoch 2 / 6) train loss: nan; val loss: nan\n",
      "(Epoch 3 / 6) train loss: nan; val loss: nan\n",
      "Stopping early at epoch 2!\n",
      "\n",
      "Evaluating Config #4 [of 100]:\n",
      " {'learning_rate': 0.0002677571741175602, 'hidden_size': 331, 'reg': 0.0002581138458519545, 'loss_func': <exercise_code.networks.loss.CrossEntropyFromLogits object at 0x7f45365f6b20>, 'num_layer': 2, 'activation': <exercise_code.networks.layer.Sigmoid object at 0x7f45365f6be0>}\n",
      "(Epoch 1 / 6) train loss: 2.302704; val loss: 2.302777\n",
      "(Epoch 2 / 6) train loss: 2.190995; val loss: 2.064759\n",
      "(Epoch 3 / 6) train loss: 1.997198; val loss: 1.928589\n",
      "(Epoch 4 / 6) train loss: 1.896395; val loss: 1.859109\n",
      "(Epoch 5 / 6) train loss: 1.813171; val loss: 1.851087\n",
      "(Epoch 6 / 6) train loss: 1.721605; val loss: 1.908038\n",
      "\n",
      "Evaluating Config #5 [of 100]:\n",
      " {'learning_rate': 0.011325483331586799, 'hidden_size': 91, 'reg': 0.0007471686799544209, 'loss_func': <exercise_code.networks.loss.CrossEntropyFromLogits object at 0x7f45365f6b20>, 'num_layer': 8, 'activation': <exercise_code.networks.layer.Sigmoid object at 0x7f45365f6be0>}\n",
      "(Epoch 1 / 6) train loss: 2.302897; val loss: 2.302923\n",
      "(Epoch 2 / 6) train loss: 2.394727; val loss: 2.398301\n",
      "(Epoch 3 / 6) train loss: 2.355508; val loss: 2.310599\n",
      "Stopping early at epoch 2!\n",
      "\n",
      "Evaluating Config #6 [of 100]:\n",
      " {'learning_rate': 1.7145164644170174e-05, 'hidden_size': 296, 'reg': 4.6217780106545295e-05, 'loss_func': <exercise_code.networks.loss.CrossEntropyFromLogits object at 0x7f45365f6b20>, 'num_layer': 3, 'activation': <exercise_code.networks.layer.LeakyRelu object at 0x7f45365f6160>}\n",
      "(Epoch 1 / 6) train loss: 2.302632; val loss: 2.302631\n",
      "(Epoch 2 / 6) train loss: 2.301407; val loss: 2.289925\n",
      "(Epoch 3 / 6) train loss: 2.237636; val loss: 2.148360\n",
      "(Epoch 4 / 6) train loss: 2.150067; val loss: 2.077717\n",
      "(Epoch 5 / 6) train loss: 2.108003; val loss: 2.040483\n",
      "(Epoch 6 / 6) train loss: 2.067811; val loss: 2.005264\n",
      "\n",
      "Evaluating Config #7 [of 100]:\n",
      " {'learning_rate': 0.0007579173567682692, 'hidden_size': 240, 'reg': 7.890422896137381e-07, 'loss_func': <exercise_code.networks.loss.CrossEntropyFromLogits object at 0x7f45365f6b20>, 'num_layer': 8, 'activation': <exercise_code.networks.layer.Sigmoid object at 0x7f45365f6be0>}\n",
      "(Epoch 1 / 6) train loss: 2.302515; val loss: 2.301704\n",
      "(Epoch 2 / 6) train loss: 2.318087; val loss: 2.319719\n",
      "(Epoch 3 / 6) train loss: 2.309654; val loss: 2.306371\n",
      "Stopping early at epoch 2!\n",
      "\n",
      "Evaluating Config #8 [of 100]:\n",
      " {'learning_rate': 0.00013510725936161224, 'hidden_size': 388, 'reg': 4.793705141413864e-05, 'loss_func': <exercise_code.networks.loss.CrossEntropyFromLogits object at 0x7f45365f6b20>, 'num_layer': 2, 'activation': <exercise_code.networks.layer.LeakyRelu object at 0x7f45365f6160>}\n",
      "(Epoch 1 / 6) train loss: 2.302643; val loss: 2.302703\n",
      "(Epoch 2 / 6) train loss: 2.103605; val loss: 1.883595\n",
      "(Epoch 3 / 6) train loss: 1.840343; val loss: 1.816613\n",
      "(Epoch 4 / 6) train loss: 1.678224; val loss: 1.838195\n",
      "(Epoch 5 / 6) train loss: 1.531253; val loss: 1.820715\n",
      "Stopping early at epoch 4!\n",
      "\n",
      "Evaluating Config #9 [of 100]:\n",
      " {'learning_rate': 0.00043160288788814485, 'hidden_size': 471, 'reg': 0.00018404584655688306, 'loss_func': <exercise_code.networks.loss.CrossEntropyFromLogits object at 0x7f45365f6b20>, 'num_layer': 8, 'activation': <exercise_code.networks.layer.Sigmoid object at 0x7f45365f6be0>}\n",
      "(Epoch 1 / 6) train loss: 2.302987; val loss: 2.302021\n",
      "(Epoch 2 / 6) train loss: 2.325689; val loss: 2.319346\n",
      "(Epoch 3 / 6) train loss: 2.317605; val loss: 2.325750\n",
      "Stopping early at epoch 2!\n",
      "\n",
      "Evaluating Config #10 [of 100]:\n",
      " {'learning_rate': 0.008543789937001002, 'hidden_size': 102, 'reg': 1.2748730158190535e-07, 'loss_func': <exercise_code.networks.loss.CrossEntropyFromLogits object at 0x7f45365f6b20>, 'num_layer': 3, 'activation': <exercise_code.networks.layer.Sigmoid object at 0x7f45365f6be0>}\n",
      "(Epoch 1 / 6) train loss: 2.302655; val loss: 2.302887\n",
      "(Epoch 2 / 6) train loss: 2.313233; val loss: 2.322871\n",
      "(Epoch 3 / 6) train loss: 2.270170; val loss: 2.097531\n",
      "(Epoch 4 / 6) train loss: 2.153995; val loss: 2.079081\n",
      "(Epoch 5 / 6) train loss: 2.097841; val loss: 2.076555\n",
      "(Epoch 6 / 6) train loss: 2.067979; val loss: 2.018676\n",
      "\n",
      "Evaluating Config #11 [of 100]:\n",
      " {'learning_rate': 0.00022929781747981593, 'hidden_size': 92, 'reg': 4.99705360372847e-07, 'loss_func': <exercise_code.networks.loss.CrossEntropyFromLogits object at 0x7f45365f6b20>, 'num_layer': 6, 'activation': <exercise_code.networks.layer.Sigmoid object at 0x7f45365f6be0>}\n",
      "(Epoch 1 / 6) train loss: 2.302627; val loss: 2.302307\n",
      "(Epoch 2 / 6) train loss: 2.306253; val loss: 2.304616\n",
      "(Epoch 3 / 6) train loss: 2.304978; val loss: 2.303992\n",
      "Stopping early at epoch 2!\n",
      "\n",
      "Evaluating Config #12 [of 100]:\n",
      " {'learning_rate': 6.13944407870656e-05, 'hidden_size': 267, 'reg': 0.0006830570048593955, 'loss_func': <exercise_code.networks.loss.CrossEntropyFromLogits object at 0x7f45365f6b20>, 'num_layer': 4, 'activation': <exercise_code.networks.layer.LeakyRelu object at 0x7f45365f6160>}\n",
      "(Epoch 1 / 6) train loss: 2.303247; val loss: 2.303247\n",
      "(Epoch 2 / 6) train loss: 2.303131; val loss: 2.295255\n",
      "(Epoch 3 / 6) train loss: 2.190224; val loss: 2.082135\n",
      "(Epoch 4 / 6) train loss: 2.109834; val loss: 2.034378\n",
      "(Epoch 5 / 6) train loss: 2.058717; val loss: 1.952647\n",
      "(Epoch 6 / 6) train loss: 1.982305; val loss: 1.932366\n",
      "\n",
      "Evaluating Config #13 [of 100]:\n",
      " {'learning_rate': 0.001658828039833376, 'hidden_size': 367, 'reg': 4.750166489457642e-06, 'loss_func': <exercise_code.networks.loss.CrossEntropyFromLogits object at 0x7f45365f6b20>, 'num_layer': 8, 'activation': <exercise_code.networks.layer.Sigmoid object at 0x7f45365f6be0>}\n",
      "(Epoch 1 / 6) train loss: 2.302962; val loss: 2.302582\n",
      "(Epoch 2 / 6) train loss: 2.322761; val loss: 2.312533\n",
      "(Epoch 3 / 6) train loss: 2.314892; val loss: 2.320619\n",
      "Stopping early at epoch 2!\n",
      "\n",
      "Evaluating Config #14 [of 100]:\n",
      " {'learning_rate': 0.0015728540547631563, 'hidden_size': 89, 'reg': 0.00013933180200534752, 'loss_func': <exercise_code.networks.loss.CrossEntropyFromLogits object at 0x7f45365f6b20>, 'num_layer': 8, 'activation': <exercise_code.networks.layer.Sigmoid object at 0x7f45365f6be0>}\n",
      "(Epoch 1 / 6) train loss: 2.302736; val loss: 2.303134\n",
      "(Epoch 2 / 6) train loss: 2.319767; val loss: 2.319498\n",
      "(Epoch 3 / 6) train loss: 2.315722; val loss: 2.307363\n",
      "Stopping early at epoch 2!\n",
      "\n",
      "Evaluating Config #15 [of 100]:\n",
      " {'learning_rate': 9.104894211601686e-05, 'hidden_size': 483, 'reg': 9.779460068837375e-05, 'loss_func': <exercise_code.networks.loss.CrossEntropyFromLogits object at 0x7f45365f6b20>, 'num_layer': 6, 'activation': <exercise_code.networks.layer.LeakyRelu object at 0x7f45365f6160>}\n"
     ]
    },
    {
     "name": "stdout",
     "output_type": "stream",
     "text": [
      "(Epoch 1 / 6) train loss: 2.302822; val loss: 2.302822\n",
      "(Epoch 2 / 6) train loss: 2.302858; val loss: 2.302849\n",
      "(Epoch 3 / 6) train loss: 2.302701; val loss: 2.296025\n",
      "(Epoch 4 / 6) train loss: 2.248378; val loss: 2.143232\n",
      "(Epoch 5 / 6) train loss: 2.122016; val loss: 2.109549\n",
      "(Epoch 6 / 6) train loss: 2.075707; val loss: 2.077798\n",
      "\n",
      "Evaluating Config #16 [of 100]:\n",
      " {'learning_rate': 0.000605292255984755, 'hidden_size': 113, 'reg': 5.856041037169769e-06, 'loss_func': <exercise_code.networks.loss.CrossEntropyFromLogits object at 0x7f45365f6b20>, 'num_layer': 5, 'activation': <exercise_code.networks.layer.Sigmoid object at 0x7f45365f6be0>}\n",
      "(Epoch 1 / 6) train loss: 2.302564; val loss: 2.302821\n",
      "(Epoch 2 / 6) train loss: 2.312015; val loss: 2.298025\n",
      "(Epoch 3 / 6) train loss: 2.308673; val loss: 2.302755\n",
      "(Epoch 4 / 6) train loss: 2.306830; val loss: 2.299550\n",
      "Stopping early at epoch 3!\n",
      "\n",
      "Evaluating Config #17 [of 100]:\n",
      " {'learning_rate': 0.009594748764968625, 'hidden_size': 420, 'reg': 1.0526941819425509e-05, 'loss_func': <exercise_code.networks.loss.CrossEntropyFromLogits object at 0x7f45365f6b20>, 'num_layer': 8, 'activation': <exercise_code.networks.layer.LeakyRelu object at 0x7f45365f6160>}\n",
      "(Epoch 1 / 6) train loss: 2.302610; val loss: 2.302610\n",
      "(Epoch 2 / 6) train loss: nan; val loss: nan\n"
     ]
    }
   ],
   "source": [
    "from exercise_code.networks import MyOwnNetwork\n",
    "\n",
    "best_model = ClassificationNet()\n",
    "#best_model = MyOwnNetwork()\n",
    "\n",
    "########################################################################\n",
    "# TODO:                                                                #\n",
    "# Implement your own neural network and find suitable hyperparameters  #\n",
    "# Be sure to edit the MyOwnNetwork class in the following code snippet #\n",
    "# to upload the correct model!                                         #\n",
    "########################################################################\n",
    "from exercise_code.hyperparameter_tuning import random_search\n",
    "from exercise_code.networks import MyOwnNetwork\n",
    "\n",
    "# Specify the used network\n",
    "model_class = ClassificationNet\n",
    "\n",
    "best_model, results = random_search(\n",
    "    dataloaders['train_small'], dataloaders['val_500files'],\n",
    "    random_search_spaces = {\n",
    "        \"learning_rate\": ([0.00001,0.1], 'log'),\n",
    "        \"hidden_size\":([50,500],\"int\"),\n",
    "        \"reg\": ([1e-7, 1e-3], \"log\"),\n",
    "        \"loss_func\": ([CrossEntropyFromLogits()], \"item\"),\n",
    "        \"num_layer\": ([2,8],\"int\"),\n",
    "        \"activation\": ([LeakyRelu(),Sigmoid()], \"item\")\n",
    "    },\n",
    "    model_class=model_class,\n",
    "    num_search = 100, epochs=6, patience=2)\n",
    "\n",
    "########################################################################\n",
    "#                           END OF YOUR CODE                           #\n",
    "########################################################################"
   ]
  },
  {
   "cell_type": "markdown",
   "metadata": {},
   "source": [
    "Now it's time to edit the ranges above and adjust them to explore regions that performed well!\n",
    "\n",
    "Also, feel free to experiment around! Also the network architecture, optimizer options and activations functions, etc. are hyperparameters that you can change!\n",
    "\n",
    "Try to get your accuracy as high as possible! That's all what counts for this submission!\n",
    "\n",
    "You'll pass if you reach at least **48%** accuracy on our test set - but there will also be a leaderboard of all students of this course. Will you make it to the top?"
   ]
  },
  {
   "cell_type": "code",
   "execution_count": 33,
   "metadata": {
    "pycharm": {
     "name": "#%%\n"
    }
   },
   "outputs": [
    {
     "name": "stdout",
     "output_type": "stream",
     "text": [
      "(Epoch 1 / 10) train loss: 2.302618; val loss: 2.302605\n",
      "(Epoch 2 / 10) train loss: 2.065433; val loss: 1.961032\n",
      "(Epoch 3 / 10) train loss: 1.805585; val loss: 1.935066\n",
      "(Epoch 4 / 10) train loss: 1.624957; val loss: 1.931490\n",
      "(Epoch 5 / 10) train loss: 1.467338; val loss: 1.968718\n",
      "(Epoch 6 / 10) train loss: 1.293317; val loss: 1.972545\n",
      "(Epoch 7 / 10) train loss: 1.092989; val loss: 2.039831\n",
      "(Epoch 8 / 10) train loss: 0.938346; val loss: 2.095690\n",
      "(Epoch 9 / 10) train loss: 0.776331; val loss: 2.173465\n",
      "(Epoch 10 / 10) train loss: 0.652697; val loss: 2.285049\n"
     ]
    }
   ],
   "source": [
    "from exercise_code.networks import MyOwnNetwork\n",
    "\n",
    "num_layer = 2\n",
    "hidden_size=300\n",
    "epochs = 10\n",
    "reg = 1e-5\n",
    "learning_rate=0.0002\n",
    "activation=LeakyRelu()\n",
    "\n",
    "model = ClassificationNet(num_layer=num_layer, reg=reg,activation=activation,hidden_size=hidden_size)\n",
    "# model = MyOwnNetwork()\n",
    "\n",
    "# Change here if you want to use the full training set\n",
    "use_full_training_set = False\n",
    "if not use_full_training_set:\n",
    "    train_loader = dataloaders['train_small']\n",
    "else:\n",
    "    train_loader = dataloaders['train']\n",
    "\n",
    "loss = CrossEntropyFromLogits()\n",
    "\n",
    "solver = Solver(model, train_loader, dataloaders['val'], \n",
    "                learning_rate=learning_rate, loss_func=loss, optimizer=Adam)\n",
    "\n",
    "solver.train(epochs=epochs)"
   ]
  },
  {
   "cell_type": "markdown",
   "metadata": {
    "pycharm": {
     "name": "#%% md\n"
    }
   },
   "source": [
    "## Checking the validation accuracy"
   ]
  },
  {
   "cell_type": "code",
   "execution_count": null,
   "outputs": [],
   "source": [
    "labels, pred, acc = model.get_dataset_prediction(dataloaders['train'])\n",
    "print(\"Train Accuracy: {}%\".format(acc*100))\n",
    "labels, pred, acc = model.get_dataset_prediction(dataloaders['val'])\n",
    "print(\"Validation Accuracy: {}%\".format(acc*100))"
   ],
   "metadata": {
    "collapsed": false,
    "pycharm": {
     "name": "#%%\n"
    }
   }
  },
  {
   "cell_type": "code",
   "execution_count": 34,
   "metadata": {},
   "outputs": [
    {
     "name": "stdout",
     "output_type": "stream",
     "text": [
      "Train Accuracy: 36.06436965811966%\n",
      "Validation Accuracy: 32.93269230769231%\n"
     ]
    }
   ],
   "source": [
    "# Test your model\n",
    "When you have finished your hyperparameter tuning and are sure you have your final model that performs well on the validation set (**you should at least get 48% accuracy on the validation set!**), it's time to run your  model on the test set.\n",
    "\n",
    "<div class=\"alert alert-danger\">\n",
    "    <h3>Important</h3>\n",
    "    <p>As you have learned in the lecture, you must only use the test set one single time! So only run the next cell if you are really sure your model works well enough and that you want to submit. Your test set is different from the test set on our server, so results may vary. Nevertheless, you will have a reasonable close approximation about your performance if you only do a final evaluation on the test set.</p>\n",
    "    <p>If you are an external student that can't use our submission webpage: this test performance is your final result and if you surpassed the threshold, you have completed this exercise :). Now, train again to aim for a better number!</p>\n",
    "</div>"
   ]
  },
  {
   "cell_type": "markdown",
   "metadata": {},
   "source": [
    "# Test your model\n",
    "When you have finished your hyperparameter tuning and are sure you have your final model that performs well on the validation set (**you should at least get 48% accuracy on the validation set!**), it's time to run your  model on the test set.\n",
    "\n",
    "<div class=\"alert alert-danger\">\n",
    "    <h3>Important</h3>\n",
    "    <p>As you have learned in the lecture, you must only use the test set one single time! So only run the next cell if you are really sure your model works well enough and that you want to submit. Your test set is different from the test set on our server, so results may vary. Nevertheless, you will have a reasonable close approximation about your performance if you only do a final evaluation on the test set.</p>\n",
    "    <p>If you are an external student that can't use our submission webpage: this test performance is your final result and if you surpassed the threshold, you have completed this exercise :). Now, train again to aim for a better number!</p>\n",
    "</div>"
   ]
  },
  {
   "cell_type": "code",
   "execution_count": null,
   "metadata": {},
   "outputs": [],
   "source": [
    "# comment this part out to see your model's performance on the test set.\n",
    "'''\n",
    "labels, pred, acc = best_model.get_dataset_prediction(dataloaders['test'])\n",
    "print(\"Test Accuracy: {}%\".format(acc*100))\n",
    "'''"
   ]
  },
  {
   "cell_type": "markdown",
   "metadata": {},
   "source": [
    "Note: The \"real\" test set is actually the dataset we're using for testing your model, which is **different** from the test-set you're using here. "
   ]
  },
  {
   "cell_type": "markdown",
   "metadata": {},
   "source": [
    "# Saving your Model"
   ]
  },
  {
   "cell_type": "code",
   "execution_count": null,
   "metadata": {},
   "outputs": [],
   "source": [
    "from exercise_code.tests import save_pickle\n",
    "save_pickle({\"cifar_fcn\": best_model}, \"cifar_fcn.p\")"
   ]
  },
  {
   "cell_type": "markdown",
   "metadata": {},
   "source": [
    "# Submission Instructions\n",
    "\n",
    "Congratulations! You've just built your first image classifier! To complete the exercise, submit your final model to our submission portal - you probably know the procedure by now.\n",
    "\n",
    "1. Go on [our submission page](https://dvl.in.tum.de/teaching/submission/), register for an account and login. We use your matriculation number and send an email with the login details to the mail account associated. When in doubt, login into tum online and check your mails there. You will get an id which we need in the next step.\n",
    "2. Navigate to `exercise_code` directory and run the `create_submission.sh` file to create the zip file of your model. This will create a single `zip` file that you need to upload. Otherwise, you can also zip it manually if you don't want to use the bash script.\n",
    "3. Log into [our submission page](https://dvl.in.tum.de/teaching/submission/) with your account details and upload the `zip` file. Once successfully uploaded, you should be able to see the submitted \"dummy_model.p\" file selectable on the top.\n",
    "4. Click on this file and run the submission script. You will get an email with your score as well as a message if you have surpassed the threshold.\n",
    "\n",
    "# Submission Goals\n",
    "\n",
    "- Goal: Successfully implement a fully connected NN image classifier, tune hyperparameters.\n",
    "\n",
    "- Passing Criteria: This time, there are no unit tests that check specific components of your code. The only thing that's required to pass the submission, is your model to reach at least **48% accuracy** on __our__ test dataset. The submission system will show you a number between 0 and 100 which corresponds to your accuracy.\n",
    "\n",
    "- Submission start: __May 28, 2020 12.00__\n",
    "- Submission deadline : __June 03, 2020 23.59__ \n",
    "- You can make **$\\infty$** submissions until the deadline. Your __best submission__ will be considered for bonus"
   ]
  }
 ],
 "metadata": {
  "kernelspec": {
   "display_name": "Python 3",
   "language": "python",
   "name": "python3"
  },
  "language_info": {
   "codemirror_mode": {
    "name": "ipython",
    "version": 3
   },
   "file_extension": ".py",
   "mimetype": "text/x-python",
   "name": "python",
   "nbconvert_exporter": "python",
   "pygments_lexer": "ipython3",
   "version": "3.8.3"
  },
  "pycharm": {
   "stem_cell": {
    "cell_type": "raw",
    "source": [],
    "metadata": {
     "collapsed": false
    }
   }
  }
 },
 "nbformat": 4,
 "nbformat_minor": 1
}